{
 "cells": [
  {
   "cell_type": "code",
   "execution_count": 12,
   "metadata": {},
   "outputs": [],
   "source": [
    "import numpy as np"
   ]
  },
  {
   "cell_type": "code",
   "execution_count": 13,
   "metadata": {},
   "outputs": [],
   "source": [
    "\n",
    "first_input = [0,0,1] \n",
    "\n",
    "second_input = [1,1,0]\n",
    "\n",
    "weights, bias, learn_rate = [0.4, -0.6, 0.6], 0.5, 0.4\n",
    "\n",
    "\n",
    "m = np.multiply(first_input,w)\n",
    "m2 = np.multiply(second_input,w)\n",
    "\n",
    "u = np.sum(m2) -0.5 \n",
    "\n"
   ]
  },
  {
   "cell_type": "code",
   "execution_count": 14,
   "metadata": {},
   "outputs": [
    {
     "name": "stdout",
     "output_type": "stream",
     "text": [
      "-0.7\n"
     ]
    }
   ],
   "source": [
    "print(u)\n"
   ]
  },
  {
   "cell_type": "code",
   "execution_count": 34,
   "metadata": {},
   "outputs": [],
   "source": [
    "def fit(weights,inputs,bias,learn_rate,d=-1):\n",
    "    u = np.sum(np.multiply(weights,inputs)) - bias\n",
    "    print(u)\n",
    "    if(u>=0):\n",
    "        y = 1\n",
    "        print('here 1')\n",
    "    else:\n",
    "        y = -1\n",
    "        print('here -1')\n",
    "    #new_weights = lambda weights:for i in range(len(weights)):weights[i] = weights[i] + tx_aprend * vetor[i] * (d - y\n",
    "    for i in range(len(weights)):\n",
    "        weights[i] = weights[i] + learn_rate * inputs[i] * (d - y)\n",
    "  \n",
    "    new_bias = bias + learn_rate * -1 * (d - y)\n",
    "    \n",
    "    return (new_bias, y, weights)"
   ]
  },
  {
   "cell_type": "code",
   "execution_count": 35,
   "metadata": {},
   "outputs": [
    {
     "name": "stdout",
     "output_type": "stream",
     "text": [
      "-0.7000000000000001\n",
      "here -1\n"
     ]
    }
   ],
   "source": [
    "t = fit(weights,first_input,bias,learn_rate)"
   ]
  },
  {
   "cell_type": "code",
   "execution_count": 21,
   "metadata": {
    "scrolled": true
   },
   "outputs": [
    {
     "name": "stdout",
     "output_type": "stream",
     "text": [
      "(0.5, -1, [0.4, -0.6, -0.20000000000000007])\n"
     ]
    }
   ],
   "source": [
    "print(t)"
   ]
  },
  {
   "cell_type": "code",
   "execution_count": 36,
   "metadata": {},
   "outputs": [
    {
     "name": "stdout",
     "output_type": "stream",
     "text": [
      "-0.7\n",
      "here -1\n"
     ]
    }
   ],
   "source": [
    "a = fit(weights,second_input,bias,learn_rate)"
   ]
  },
  {
   "cell_type": "code",
   "execution_count": null,
   "metadata": {},
   "outputs": [],
   "source": []
  }
 ],
 "metadata": {
  "kernelspec": {
   "display_name": "Python 3",
   "language": "python",
   "name": "python3"
  },
  "language_info": {
   "codemirror_mode": {
    "name": "ipython",
    "version": 3
   },
   "file_extension": ".py",
   "mimetype": "text/x-python",
   "name": "python",
   "nbconvert_exporter": "python",
   "pygments_lexer": "ipython3",
   "version": "3.6.6"
  }
 },
 "nbformat": 4,
 "nbformat_minor": 2
}
