{
 "cells": [
  {
   "cell_type": "code",
   "execution_count": 38,
   "metadata": {},
   "outputs": [],
   "source": [
    "import numpy as np\n"
   ]
  },
  {
   "cell_type": "code",
   "execution_count": 39,
   "metadata": {},
   "outputs": [],
   "source": [
    "weights, bias, learn_rate = [0.4, -0.6, 0.6], 0.5, 0.4\n",
    "d=-1"
   ]
  },
  {
   "cell_type": "code",
   "execution_count": 40,
   "metadata": {},
   "outputs": [],
   "source": [
    "def fit(weights,inputs,bias,learn_rate):\n",
    "    # print(weights,inputs)\n",
    "    aux = np.multiply(weights,inputs)\n",
    "    # print(aux)\n",
    "    u = np.sum(aux) - bias\n",
    "    # print(u)\n",
    "    if(u>=0):\n",
    "        category = 1\n",
    "        # print(\"Classe 1\")\n",
    "    else:\n",
    "        # print(\"Classe -1\")\n",
    "        category = -1\n",
    "    #new_weights = lambda weights:for i in range(len(weights)):weights[i] = weights[i] + tx_aprend * vetor[i] * (d - y\n",
    "    for i in range(len(weights)):\n",
    "        weights[i] = weights[i] + (learn_rate * inputs[i]) * (d - category)\n",
    "\n",
    "    new_bias = bias + learn_rate * -1 * (d - category)\n",
    "    print(new_bias)\n",
    "    print(category)\n",
    "    return (category, weights, new_bias)\n",
    "    "
   ]
  },
  {
   "cell_type": "code",
   "execution_count": 41,
   "metadata": {},
   "outputs": [],
   "source": [
    "sample = [[0,0,1],[1,1,0]]\n",
    "sample_outputs = [1,-1]\n",
    "inputs = [[1,1,1],[0,0,0],[1,0,0],[0,1,1]]"
   ]
  },
  {
   "cell_type": "code",
   "execution_count": 42,
   "metadata": {},
   "outputs": [
    {
     "name": "stdout",
     "output_type": "stream",
     "text": [
      "1.3\n",
      "1\n",
      "0.5\n",
      "-1\n"
     ]
    },
    {
     "data": {
      "text/plain": [
       "(-1, [0.4, -0.6, -0.20000000000000007], 0.5)"
      ]
     },
     "execution_count": 42,
     "metadata": {},
     "output_type": "execute_result"
    }
   ],
   "source": [
    "fit(weights,sample[0],bias,learn_rate) \n",
    "fit(weights,sample[1],bias,learn_rate)"
   ]
  },
  {
   "cell_type": "code",
   "execution_count": 43,
   "metadata": {},
   "outputs": [
    {
     "name": "stdout",
     "output_type": "stream",
     "text": [
      "0.5\n",
      "-1\n",
      "0.5\n",
      "-1\n",
      "0.5\n",
      "-1\n",
      "0.5\n",
      "-1\n"
     ]
    }
   ],
   "source": [
    "for i in range(len(inputs)):\n",
    "    fit(weights,inputs[i],bias,learn_rate) "
   ]
  },
  {
   "cell_type": "code",
   "execution_count": null,
   "metadata": {},
   "outputs": [],
   "source": []
  }
 ],
 "metadata": {
  "kernelspec": {
   "display_name": "Python 3",
   "language": "python",
   "name": "python3"
  },
  "language_info": {
   "codemirror_mode": {
    "name": "ipython",
    "version": 3
   },
   "file_extension": ".py",
   "mimetype": "text/x-python",
   "name": "python",
   "nbconvert_exporter": "python",
   "pygments_lexer": "ipython3",
   "version": "3.6.6"
  }
 },
 "nbformat": 4,
 "nbformat_minor": 2
}
