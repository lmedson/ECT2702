{
 "cells": [
  {
   "cell_type": "markdown",
   "metadata": {},
   "source": [
    "# Sentimental polarity analisys searching tweets by **blackfraude**"
   ]
  },
  {
   "cell_type": "code",
   "execution_count": 1,
   "metadata": {},
   "outputs": [],
   "source": [
    "import pandas as pd\n",
    "import numpy as np\n",
    "import matplotlib\n",
    "from matplotlib import pyplot as plt\n",
    "from textblob import TextBlob\n",
    "from nltk.corpus import stopwords\n",
    "from sklearn.feature_extraction.text import CountVectorizer, TfidfVectorizer\n",
    "# import seaborn as sns\n",
    "%matplotlib inline\n",
    "%config InlineBackend.figure_format = 'retina'\n",
    "# pd.set_option('display.max_colwidth',362)"
   ]
  },
  {
   "cell_type": "code",
   "execution_count": 2,
   "metadata": {},
   "outputs": [],
   "source": [
    "data = pd.read_json('./tweets1.json',encoding='utf-8')"
   ]
  },
  {
   "cell_type": "code",
   "execution_count": 3,
   "metadata": {},
   "outputs": [
    {
     "data": {
      "text/html": [
       "<div>\n",
       "<style scoped>\n",
       "    .dataframe tbody tr th:only-of-type {\n",
       "        vertical-align: middle;\n",
       "    }\n",
       "\n",
       "    .dataframe tbody tr th {\n",
       "        vertical-align: top;\n",
       "    }\n",
       "\n",
       "    .dataframe thead th {\n",
       "        text-align: right;\n",
       "    }\n",
       "</style>\n",
       "<table border=\"1\" class=\"dataframe\">\n",
       "  <thead>\n",
       "    <tr style=\"text-align: right;\">\n",
       "      <th></th>\n",
       "      <th>fullname</th>\n",
       "      <th>html</th>\n",
       "      <th>id</th>\n",
       "      <th>likes</th>\n",
       "      <th>replies</th>\n",
       "      <th>retweets</th>\n",
       "      <th>text</th>\n",
       "      <th>timestamp</th>\n",
       "      <th>url</th>\n",
       "      <th>user</th>\n",
       "    </tr>\n",
       "  </thead>\n",
       "  <tbody>\n",
       "    <tr>\n",
       "      <th>0</th>\n",
       "      <td>Ricardo André</td>\n",
       "      <td>&lt;p class=\"TweetTextSize js-tweet-text tweet-te...</td>\n",
       "      <td>1063197496304967680</td>\n",
       "      <td>0</td>\n",
       "      <td>1</td>\n",
       "      <td>0</td>\n",
       "      <td>Hahahahah... Todo ano é essa mentira na BlackF...</td>\n",
       "      <td>2018-11-15 22:30:11</td>\n",
       "      <td>/RickRock_1975/status/1063197496304967682</td>\n",
       "      <td>RickRock_1975</td>\n",
       "    </tr>\n",
       "    <tr>\n",
       "      <th>1</th>\n",
       "      <td>Bruno Gabriel Silva</td>\n",
       "      <td>&lt;p class=\"TweetTextSize js-tweet-text tweet-te...</td>\n",
       "      <td>1063172546097491968</td>\n",
       "      <td>0</td>\n",
       "      <td>0</td>\n",
       "      <td>0</td>\n",
       "      <td>BlackFraude então... ?</td>\n",
       "      <td>2018-11-15 20:51:02</td>\n",
       "      <td>/Sescok/status/1063172546097491970</td>\n",
       "      <td>Sescok</td>\n",
       "    </tr>\n",
       "    <tr>\n",
       "      <th>2</th>\n",
       "      <td>Franklin</td>\n",
       "      <td>&lt;p class=\"TweetTextSize js-tweet-text tweet-te...</td>\n",
       "      <td>1063129511531896832</td>\n",
       "      <td>1</td>\n",
       "      <td>2</td>\n",
       "      <td>0</td>\n",
       "      <td>amanhã é blackfraude</td>\n",
       "      <td>2018-11-15 18:00:02</td>\n",
       "      <td>/franklin_lessa/status/1063129511531896834</td>\n",
       "      <td>franklin_lessa</td>\n",
       "    </tr>\n",
       "    <tr>\n",
       "      <th>3</th>\n",
       "      <td>André Soares</td>\n",
       "      <td>&lt;p class=\"TweetTextSize js-tweet-text tweet-te...</td>\n",
       "      <td>1063121139432673280</td>\n",
       "      <td>0</td>\n",
       "      <td>2</td>\n",
       "      <td>0</td>\n",
       "      <td>Alerta de #BlackFraude no Walmart e Sams Club....</td>\n",
       "      <td>2018-11-15 17:26:46</td>\n",
       "      <td>/AndreSoares85/status/1063121139432673281</td>\n",
       "      <td>AndreSoares85</td>\n",
       "    </tr>\n",
       "    <tr>\n",
       "      <th>4</th>\n",
       "      <td>Renan Dias</td>\n",
       "      <td>&lt;p class=\"TweetTextSize js-tweet-text tweet-te...</td>\n",
       "      <td>1063110536387313664</td>\n",
       "      <td>12</td>\n",
       "      <td>3</td>\n",
       "      <td>4</td>\n",
       "      <td>ABSURDO!\\n@pontofrio @submarino @americanascom...</td>\n",
       "      <td>2018-11-15 16:44:38</td>\n",
       "      <td>/ree_atwood/status/1063110536387313665</td>\n",
       "      <td>ree_atwood</td>\n",
       "    </tr>\n",
       "  </tbody>\n",
       "</table>\n",
       "</div>"
      ],
      "text/plain": [
       "              fullname                                               html  \\\n",
       "0        Ricardo André  <p class=\"TweetTextSize js-tweet-text tweet-te...   \n",
       "1  Bruno Gabriel Silva  <p class=\"TweetTextSize js-tweet-text tweet-te...   \n",
       "2             Franklin  <p class=\"TweetTextSize js-tweet-text tweet-te...   \n",
       "3         André Soares  <p class=\"TweetTextSize js-tweet-text tweet-te...   \n",
       "4           Renan Dias  <p class=\"TweetTextSize js-tweet-text tweet-te...   \n",
       "\n",
       "                    id  likes  replies  retweets  \\\n",
       "0  1063197496304967680      0        1         0   \n",
       "1  1063172546097491968      0        0         0   \n",
       "2  1063129511531896832      1        2         0   \n",
       "3  1063121139432673280      0        2         0   \n",
       "4  1063110536387313664     12        3         4   \n",
       "\n",
       "                                                text           timestamp  \\\n",
       "0  Hahahahah... Todo ano é essa mentira na BlackF... 2018-11-15 22:30:11   \n",
       "1                             BlackFraude então... ? 2018-11-15 20:51:02   \n",
       "2                               amanhã é blackfraude 2018-11-15 18:00:02   \n",
       "3  Alerta de #BlackFraude no Walmart e Sams Club.... 2018-11-15 17:26:46   \n",
       "4  ABSURDO!\\n@pontofrio @submarino @americanascom... 2018-11-15 16:44:38   \n",
       "\n",
       "                                          url            user  \n",
       "0   /RickRock_1975/status/1063197496304967682   RickRock_1975  \n",
       "1          /Sescok/status/1063172546097491970          Sescok  \n",
       "2  /franklin_lessa/status/1063129511531896834  franklin_lessa  \n",
       "3   /AndreSoares85/status/1063121139432673281   AndreSoares85  \n",
       "4      /ree_atwood/status/1063110536387313665      ree_atwood  "
      ]
     },
     "execution_count": 3,
     "metadata": {},
     "output_type": "execute_result"
    }
   ],
   "source": [
    "data.head()"
   ]
  },
  {
   "cell_type": "code",
   "execution_count": 4,
   "metadata": {},
   "outputs": [
    {
     "data": {
      "text/plain": [
       "(312, 10)"
      ]
     },
     "execution_count": 4,
     "metadata": {},
     "output_type": "execute_result"
    }
   ],
   "source": [
    "data.shape"
   ]
  },
  {
   "cell_type": "code",
   "execution_count": 5,
   "metadata": {},
   "outputs": [],
   "source": [
    "# cleaning data\n",
    "df = data.drop(columns=['html','url','likes','replies','retweets','id'])"
   ]
  },
  {
   "cell_type": "code",
   "execution_count": 6,
   "metadata": {},
   "outputs": [],
   "source": [
    "df[\"comment_length\"]= df[\"text\"].str.len() "
   ]
  },
  {
   "cell_type": "code",
   "execution_count": 7,
   "metadata": {},
   "outputs": [
    {
     "data": {
      "text/plain": [
       "count    312.000000\n",
       "mean     133.150641\n",
       "std       81.100785\n",
       "min       11.000000\n",
       "25%       65.000000\n",
       "50%      110.000000\n",
       "75%      200.000000\n",
       "max      362.000000\n",
       "Name: comment_length, dtype: float64"
      ]
     },
     "execution_count": 7,
     "metadata": {},
     "output_type": "execute_result"
    }
   ],
   "source": [
    "df['comment_length'].describe()"
   ]
  },
  {
   "cell_type": "code",
   "execution_count": 8,
   "metadata": {},
   "outputs": [
    {
     "data": {
      "text/html": [
       "<div>\n",
       "<style scoped>\n",
       "    .dataframe tbody tr th:only-of-type {\n",
       "        vertical-align: middle;\n",
       "    }\n",
       "\n",
       "    .dataframe tbody tr th {\n",
       "        vertical-align: top;\n",
       "    }\n",
       "\n",
       "    .dataframe thead th {\n",
       "        text-align: right;\n",
       "    }\n",
       "</style>\n",
       "<table border=\"1\" class=\"dataframe\">\n",
       "  <thead>\n",
       "    <tr style=\"text-align: right;\">\n",
       "      <th></th>\n",
       "      <th>fullname</th>\n",
       "      <th>text</th>\n",
       "      <th>timestamp</th>\n",
       "      <th>user</th>\n",
       "      <th>comment_length</th>\n",
       "    </tr>\n",
       "  </thead>\n",
       "  <tbody>\n",
       "    <tr>\n",
       "      <th>24</th>\n",
       "      <td>Ecologistas Zaragoza</td>\n",
       "      <td>¡Pasa del consumismo estúpido! #DiaSinCompras2...</td>\n",
       "      <td>2018-11-18 22:42:54</td>\n",
       "      <td>ecologistaszgz</td>\n",
       "      <td>362</td>\n",
       "    </tr>\n",
       "  </tbody>\n",
       "</table>\n",
       "</div>"
      ],
      "text/plain": [
       "                fullname                                               text  \\\n",
       "24  Ecologistas Zaragoza  ¡Pasa del consumismo estúpido! #DiaSinCompras2...   \n",
       "\n",
       "             timestamp            user  comment_length  \n",
       "24 2018-11-18 22:42:54  ecologistaszgz             362  "
      ]
     },
     "execution_count": 8,
     "metadata": {},
     "output_type": "execute_result"
    }
   ],
   "source": [
    "bigger_comment = df.loc[df['comment_length'] == 362]\n",
    "bigger_comment"
   ]
  },
  {
   "cell_type": "code",
   "execution_count": 9,
   "metadata": {},
   "outputs": [],
   "source": [
    "df[\"cluster\"]= df[\"comment_length\"].apply(lambda x: 'LST' if x <= 100 else( 'MDN' if x>=133 and x>200 else 'BGR'))"
   ]
  },
  {
   "cell_type": "code",
   "execution_count": 10,
   "metadata": {},
   "outputs": [
    {
     "data": {
      "text/html": [
       "<div>\n",
       "<style scoped>\n",
       "    .dataframe tbody tr th:only-of-type {\n",
       "        vertical-align: middle;\n",
       "    }\n",
       "\n",
       "    .dataframe tbody tr th {\n",
       "        vertical-align: top;\n",
       "    }\n",
       "\n",
       "    .dataframe thead th {\n",
       "        text-align: right;\n",
       "    }\n",
       "</style>\n",
       "<table border=\"1\" class=\"dataframe\">\n",
       "  <thead>\n",
       "    <tr style=\"text-align: right;\">\n",
       "      <th></th>\n",
       "      <th>fullname</th>\n",
       "      <th>text</th>\n",
       "      <th>timestamp</th>\n",
       "      <th>user</th>\n",
       "      <th>comment_length</th>\n",
       "      <th>cluster</th>\n",
       "    </tr>\n",
       "  </thead>\n",
       "  <tbody>\n",
       "    <tr>\n",
       "      <th>0</th>\n",
       "      <td>Ricardo André</td>\n",
       "      <td>Hahahahah... Todo ano é essa mentira na BlackF...</td>\n",
       "      <td>2018-11-15 22:30:11</td>\n",
       "      <td>RickRock_1975</td>\n",
       "      <td>116</td>\n",
       "      <td>BGR</td>\n",
       "    </tr>\n",
       "    <tr>\n",
       "      <th>1</th>\n",
       "      <td>Bruno Gabriel Silva</td>\n",
       "      <td>BlackFraude então... ?</td>\n",
       "      <td>2018-11-15 20:51:02</td>\n",
       "      <td>Sescok</td>\n",
       "      <td>22</td>\n",
       "      <td>LST</td>\n",
       "    </tr>\n",
       "    <tr>\n",
       "      <th>2</th>\n",
       "      <td>Franklin</td>\n",
       "      <td>amanhã é blackfraude</td>\n",
       "      <td>2018-11-15 18:00:02</td>\n",
       "      <td>franklin_lessa</td>\n",
       "      <td>20</td>\n",
       "      <td>LST</td>\n",
       "    </tr>\n",
       "    <tr>\n",
       "      <th>3</th>\n",
       "      <td>André Soares</td>\n",
       "      <td>Alerta de #BlackFraude no Walmart e Sams Club....</td>\n",
       "      <td>2018-11-15 17:26:46</td>\n",
       "      <td>AndreSoares85</td>\n",
       "      <td>198</td>\n",
       "      <td>BGR</td>\n",
       "    </tr>\n",
       "    <tr>\n",
       "      <th>4</th>\n",
       "      <td>Renan Dias</td>\n",
       "      <td>ABSURDO!\\n@pontofrio @submarino @americanascom...</td>\n",
       "      <td>2018-11-15 16:44:38</td>\n",
       "      <td>ree_atwood</td>\n",
       "      <td>274</td>\n",
       "      <td>MDN</td>\n",
       "    </tr>\n",
       "  </tbody>\n",
       "</table>\n",
       "</div>"
      ],
      "text/plain": [
       "              fullname                                               text  \\\n",
       "0        Ricardo André  Hahahahah... Todo ano é essa mentira na BlackF...   \n",
       "1  Bruno Gabriel Silva                             BlackFraude então... ?   \n",
       "2             Franklin                               amanhã é blackfraude   \n",
       "3         André Soares  Alerta de #BlackFraude no Walmart e Sams Club....   \n",
       "4           Renan Dias  ABSURDO!\\n@pontofrio @submarino @americanascom...   \n",
       "\n",
       "            timestamp            user  comment_length cluster  \n",
       "0 2018-11-15 22:30:11   RickRock_1975             116     BGR  \n",
       "1 2018-11-15 20:51:02          Sescok              22     LST  \n",
       "2 2018-11-15 18:00:02  franklin_lessa              20     LST  \n",
       "3 2018-11-15 17:26:46   AndreSoares85             198     BGR  \n",
       "4 2018-11-15 16:44:38      ree_atwood             274     MDN  "
      ]
     },
     "execution_count": 10,
     "metadata": {},
     "output_type": "execute_result"
    }
   ],
   "source": [
    "df.head()"
   ]
  },
  {
   "cell_type": "markdown",
   "metadata": {},
   "source": [
    "# Bar chart of class proportion"
   ]
  },
  {
   "cell_type": "code",
   "execution_count": 11,
   "metadata": {},
   "outputs": [],
   "source": [
    "LST_len = df[df['cluster'] == 'LST'].shape[0]\n",
    "MDN_len = df[df['cluster'] == 'MDN'].shape[0]\n",
    "BGR_len = df[df['cluster'] == 'BGR'].shape[0]"
   ]
  },
  {
   "cell_type": "code",
   "execution_count": 12,
   "metadata": {
    "scrolled": false
   },
   "outputs": [
    {
     "data": {
      "image/png": "[encoded data removed]",
      "text/plain": [
       "<Figure size 432x288 with 1 Axes>"
      ]
     },
     "metadata": {
      "image/png": {
       "height": 263,
       "width": 391
      }
     },
     "output_type": "display_data"
    }
   ],
   "source": [
    "# bar plot of the 3 classes\n",
    "plt.bar(10,LST_len,3, label=\"LST\")\n",
    "plt.bar(15,MDN_len,3, label=\"MDN\")\n",
    "plt.bar(20,BGR_len,3, label=\"BGR\")\n",
    "plt.legend()\n",
    "plt.ylabel('Number of examples')\n",
    "plt.title('Propoertion of examples')\n",
    "plt.show()"
   ]
  },
  {
   "cell_type": "markdown",
   "metadata": {},
   "source": [
    "# Setting sentiment polarity"
   ]
  },
  {
   "cell_type": "code",
   "execution_count": 13,
   "metadata": {},
   "outputs": [],
   "source": [
    "polarities = []\n",
    "for text in df['text']:\n",
    "    phrase = TextBlob(text)\n",
    "    if phrase.sentiment.polarity > 0:\n",
    "        polarities.append('POSITIVE')\n",
    "    else:\n",
    "        polarities.append('NEGATIVE')"
   ]
  },
  {
   "cell_type": "code",
   "execution_count": 14,
   "metadata": {},
   "outputs": [],
   "source": [
    "df['polarities'] = polarities"
   ]
  },
  {
   "cell_type": "code",
   "execution_count": 15,
   "metadata": {},
   "outputs": [
    {
     "data": {
      "text/plain": [
       "count          312\n",
       "unique           2\n",
       "top       NEGATIVE\n",
       "freq           291\n",
       "Name: polarities, dtype: object"
      ]
     },
     "execution_count": 15,
     "metadata": {},
     "output_type": "execute_result"
    }
   ],
   "source": [
    "df['polarities'].describe()"
   ]
  },
  {
   "cell_type": "markdown",
   "metadata": {},
   "source": [
    "# Finding Top words"
   ]
  },
  {
   "cell_type": "markdown",
   "metadata": {},
   "source": [
    "## Removing punctions"
   ]
  },
  {
   "cell_type": "code",
   "execution_count": 16,
   "metadata": {},
   "outputs": [],
   "source": [
    "def remove_punctuation(text):\n",
    "    import string\n",
    "    \n",
    "    translator = str.maketrans('', '', string.punctuation)\n",
    "    return text.translate(translator)"
   ]
  },
  {
   "cell_type": "code",
   "execution_count": 17,
   "metadata": {
    "scrolled": true
   },
   "outputs": [
    {
     "data": {
      "text/html": [
       "<div>\n",
       "<style scoped>\n",
       "    .dataframe tbody tr th:only-of-type {\n",
       "        vertical-align: middle;\n",
       "    }\n",
       "\n",
       "    .dataframe tbody tr th {\n",
       "        vertical-align: top;\n",
       "    }\n",
       "\n",
       "    .dataframe thead th {\n",
       "        text-align: right;\n",
       "    }\n",
       "</style>\n",
       "<table border=\"1\" class=\"dataframe\">\n",
       "  <thead>\n",
       "    <tr style=\"text-align: right;\">\n",
       "      <th></th>\n",
       "      <th>fullname</th>\n",
       "      <th>text</th>\n",
       "      <th>timestamp</th>\n",
       "      <th>user</th>\n",
       "      <th>comment_length</th>\n",
       "      <th>cluster</th>\n",
       "      <th>polarities</th>\n",
       "    </tr>\n",
       "  </thead>\n",
       "  <tbody>\n",
       "    <tr>\n",
       "      <th>0</th>\n",
       "      <td>Ricardo André</td>\n",
       "      <td>Hahahahah Todo ano é essa mentira na BlackFrau...</td>\n",
       "      <td>2018-11-15 22:30:11</td>\n",
       "      <td>RickRock_1975</td>\n",
       "      <td>116</td>\n",
       "      <td>BGR</td>\n",
       "      <td>NEGATIVE</td>\n",
       "    </tr>\n",
       "    <tr>\n",
       "      <th>1</th>\n",
       "      <td>Bruno Gabriel Silva</td>\n",
       "      <td>BlackFraude então</td>\n",
       "      <td>2018-11-15 20:51:02</td>\n",
       "      <td>Sescok</td>\n",
       "      <td>22</td>\n",
       "      <td>LST</td>\n",
       "      <td>NEGATIVE</td>\n",
       "    </tr>\n",
       "    <tr>\n",
       "      <th>2</th>\n",
       "      <td>Franklin</td>\n",
       "      <td>amanhã é blackfraude</td>\n",
       "      <td>2018-11-15 18:00:02</td>\n",
       "      <td>franklin_lessa</td>\n",
       "      <td>20</td>\n",
       "      <td>LST</td>\n",
       "      <td>NEGATIVE</td>\n",
       "    </tr>\n",
       "    <tr>\n",
       "      <th>3</th>\n",
       "      <td>André Soares</td>\n",
       "      <td>Alerta de BlackFraude no Walmart e Sams Club L...</td>\n",
       "      <td>2018-11-15 17:26:46</td>\n",
       "      <td>AndreSoares85</td>\n",
       "      <td>198</td>\n",
       "      <td>BGR</td>\n",
       "      <td>NEGATIVE</td>\n",
       "    </tr>\n",
       "    <tr>\n",
       "      <th>4</th>\n",
       "      <td>Renan Dias</td>\n",
       "      <td>ABSURDO\\npontofrio submarino americanascom fas...</td>\n",
       "      <td>2018-11-15 16:44:38</td>\n",
       "      <td>ree_atwood</td>\n",
       "      <td>274</td>\n",
       "      <td>MDN</td>\n",
       "      <td>POSITIVE</td>\n",
       "    </tr>\n",
       "    <tr>\n",
       "      <th>5</th>\n",
       "      <td>H E R I C  🐔</td>\n",
       "      <td>Brasileiro transforma a BlackFriday em BlackFr...</td>\n",
       "      <td>2018-11-15 13:34:43</td>\n",
       "      <td>Jr_heric</td>\n",
       "      <td>52</td>\n",
       "      <td>LST</td>\n",
       "      <td>NEGATIVE</td>\n",
       "    </tr>\n",
       "    <tr>\n",
       "      <th>6</th>\n",
       "      <td>David Moraes</td>\n",
       "      <td>Passando novamente para dizer que a BlackFraud...</td>\n",
       "      <td>2018-11-15 01:34:01</td>\n",
       "      <td>David__Moraes</td>\n",
       "      <td>174</td>\n",
       "      <td>BGR</td>\n",
       "      <td>NEGATIVE</td>\n",
       "    </tr>\n",
       "    <tr>\n",
       "      <th>7</th>\n",
       "      <td>dona aranha</td>\n",
       "      <td>Aiai eu anotando data de inicio de blackfraude...</td>\n",
       "      <td>2018-11-15 00:49:43</td>\n",
       "      <td>romulosotnas</td>\n",
       "      <td>97</td>\n",
       "      <td>LST</td>\n",
       "      <td>NEGATIVE</td>\n",
       "    </tr>\n",
       "    <tr>\n",
       "      <th>8</th>\n",
       "      <td>Heber Gouveia</td>\n",
       "      <td>A BlackFraude começou Estou acompanhando o pre...</td>\n",
       "      <td>2018-11-13 22:56:34</td>\n",
       "      <td>GouveiaHeber</td>\n",
       "      <td>136</td>\n",
       "      <td>BGR</td>\n",
       "      <td>NEGATIVE</td>\n",
       "    </tr>\n",
       "    <tr>\n",
       "      <th>9</th>\n",
       "      <td>Ciel Lykos  🔱</td>\n",
       "      <td>Black Friday chegando \\n\\nNo Brasil é Black Fr...</td>\n",
       "      <td>2018-11-13 22:17:56</td>\n",
       "      <td>ciellykos</td>\n",
       "      <td>171</td>\n",
       "      <td>BGR</td>\n",
       "      <td>NEGATIVE</td>\n",
       "    </tr>\n",
       "  </tbody>\n",
       "</table>\n",
       "</div>"
      ],
      "text/plain": [
       "              fullname                                               text  \\\n",
       "0        Ricardo André  Hahahahah Todo ano é essa mentira na BlackFrau...   \n",
       "1  Bruno Gabriel Silva                                 BlackFraude então    \n",
       "2             Franklin                               amanhã é blackfraude   \n",
       "3         André Soares  Alerta de BlackFraude no Walmart e Sams Club L...   \n",
       "4           Renan Dias  ABSURDO\\npontofrio submarino americanascom fas...   \n",
       "5         H E R I C  🐔  Brasileiro transforma a BlackFriday em BlackFr...   \n",
       "6         David Moraes  Passando novamente para dizer que a BlackFraud...   \n",
       "7          dona aranha  Aiai eu anotando data de inicio de blackfraude...   \n",
       "8        Heber Gouveia  A BlackFraude começou Estou acompanhando o pre...   \n",
       "9        Ciel Lykos  🔱  Black Friday chegando \\n\\nNo Brasil é Black Fr...   \n",
       "\n",
       "            timestamp            user  comment_length cluster polarities  \n",
       "0 2018-11-15 22:30:11   RickRock_1975             116     BGR   NEGATIVE  \n",
       "1 2018-11-15 20:51:02          Sescok              22     LST   NEGATIVE  \n",
       "2 2018-11-15 18:00:02  franklin_lessa              20     LST   NEGATIVE  \n",
       "3 2018-11-15 17:26:46   AndreSoares85             198     BGR   NEGATIVE  \n",
       "4 2018-11-15 16:44:38      ree_atwood             274     MDN   POSITIVE  \n",
       "5 2018-11-15 13:34:43        Jr_heric              52     LST   NEGATIVE  \n",
       "6 2018-11-15 01:34:01   David__Moraes             174     BGR   NEGATIVE  \n",
       "7 2018-11-15 00:49:43    romulosotnas              97     LST   NEGATIVE  \n",
       "8 2018-11-13 22:56:34    GouveiaHeber             136     BGR   NEGATIVE  \n",
       "9 2018-11-13 22:17:56       ciellykos             171     BGR   NEGATIVE  "
      ]
     },
     "execution_count": 17,
     "metadata": {},
     "output_type": "execute_result"
    }
   ],
   "source": [
    "df['text'] = df['text'].apply(remove_punctuation)\n",
    "df.head(10)"
   ]
  },
  {
   "cell_type": "code",
   "execution_count": 18,
   "metadata": {},
   "outputs": [
    {
     "data": {
      "text/plain": [
       "array(['de', 'a', 'o', 'que', 'e', 'do', 'da', 'em', 'um', 'para', 'com',\n",
       "       'não', 'uma', 'os', 'no', 'se', 'na', 'por', 'mais', 'as', 'dos',\n",
       "       'como', 'mas', 'ao', 'ele', 'das', 'à', 'seu', 'sua', 'ou',\n",
       "       'quando', 'muito', 'nos', 'já', 'eu', 'também', 'só', 'pelo',\n",
       "       'pela', 'até', 'isso', 'ela', 'entre', 'depois', 'sem', 'mesmo',\n",
       "       'aos', 'seus', 'quem', 'nas', 'me', 'esse', 'eles', 'você', 'essa',\n",
       "       'num', 'nem', 'suas', 'meu', 'às', 'minha', 'numa', 'pelos',\n",
       "       'elas', 'qual', 'nós', 'lhe', 'deles', 'essas', 'esses', 'pelas',\n",
       "       'este', 'dele', 'tu', 'te', 'vocês', 'vos', 'lhes', 'meus',\n",
       "       'minhas', 'teu', 'tua', 'teus', 'tuas', 'nosso', 'nossa', 'nossos',\n",
       "       'nossas', 'dela', 'delas', 'esta', 'estes', 'estas', 'aquele',\n",
       "       'aquela', 'aqueles', 'aquelas', 'isto', 'aquilo', 'estou', 'está',\n",
       "       'estamos', 'estão', 'estive', 'esteve', 'estivemos', 'estiveram',\n",
       "       'estava', 'estávamos', 'estavam', 'estivera', 'estivéramos',\n",
       "       'esteja', 'estejamos', 'estejam', 'estivesse', 'estivéssemos',\n",
       "       'estivessem', 'estiver', 'estivermos', 'estiverem', 'hei', 'há',\n",
       "       'havemos', 'hão', 'houve', 'houvemos', 'houveram', 'houvera',\n",
       "       'houvéramos', 'haja', 'hajamos', 'hajam', 'houvesse',\n",
       "       'houvéssemos', 'houvessem', 'houver', 'houvermos', 'houverem',\n",
       "       'houverei', 'houverá', 'houveremos', 'houverão', 'houveria',\n",
       "       'houveríamos', 'houveriam', 'sou', 'somos', 'são', 'era', 'éramos',\n",
       "       'eram', 'fui', 'foi', 'fomos', 'foram', 'fora', 'fôramos', 'seja',\n",
       "       'sejamos', 'sejam', 'fosse', 'fôssemos', 'fossem', 'for', 'formos',\n",
       "       'forem', 'serei', 'será', 'seremos', 'serão', 'seria', 'seríamos',\n",
       "       'seriam', 'tenho', 'tem', 'temos', 'tém', 'tinha', 'tínhamos',\n",
       "       'tinham', 'tive', 'teve', 'tivemos', 'tiveram', 'tivera',\n",
       "       'tivéramos', 'tenha', 'tenhamos', 'tenham', 'tivesse',\n",
       "       'tivéssemos', 'tivessem', 'tiver', 'tivermos', 'tiverem', 'terei',\n",
       "       'terá', 'teremos', 'terão', 'teria', 'teríamos', 'teriam'],\n",
       "      dtype='<U12')"
      ]
     },
     "execution_count": 18,
     "metadata": {},
     "output_type": "execute_result"
    }
   ],
   "source": [
    "# extracting the stopwords from nltk library\n",
    "sw = stopwords.words('portuguese')\n",
    "# displaying the stopwords\n",
    "np.array(sw)"
   ]
  },
  {
   "cell_type": "code",
   "execution_count": 19,
   "metadata": {},
   "outputs": [
    {
     "data": {
      "text/plain": [
       "203"
      ]
     },
     "execution_count": 19,
     "metadata": {},
     "output_type": "execute_result"
    }
   ],
   "source": [
    "len(sw)"
   ]
  },
  {
   "cell_type": "code",
   "execution_count": 20,
   "metadata": {},
   "outputs": [],
   "source": [
    "def stopwords(text):\n",
    "    '''a function for removing the stopword'''\n",
    "    # removing the stop words and lowercasing the selected words\n",
    "    text = [word.lower() for word in text.split() if word.lower() not in sw]\n",
    "    # joining the list of words with space separator\n",
    "    return \" \".join(text)"
   ]
  },
  {
   "cell_type": "code",
   "execution_count": 21,
   "metadata": {},
   "outputs": [
    {
     "data": {
      "text/html": [
       "<div>\n",
       "<style scoped>\n",
       "    .dataframe tbody tr th:only-of-type {\n",
       "        vertical-align: middle;\n",
       "    }\n",
       "\n",
       "    .dataframe tbody tr th {\n",
       "        vertical-align: top;\n",
       "    }\n",
       "\n",
       "    .dataframe thead th {\n",
       "        text-align: right;\n",
       "    }\n",
       "</style>\n",
       "<table border=\"1\" class=\"dataframe\">\n",
       "  <thead>\n",
       "    <tr style=\"text-align: right;\">\n",
       "      <th></th>\n",
       "      <th>fullname</th>\n",
       "      <th>text</th>\n",
       "      <th>timestamp</th>\n",
       "      <th>user</th>\n",
       "      <th>comment_length</th>\n",
       "      <th>cluster</th>\n",
       "      <th>polarities</th>\n",
       "    </tr>\n",
       "  </thead>\n",
       "  <tbody>\n",
       "    <tr>\n",
       "      <th>0</th>\n",
       "      <td>Ricardo André</td>\n",
       "      <td>hahahahah todo ano é mentira blackfraude https...</td>\n",
       "      <td>2018-11-15 22:30:11</td>\n",
       "      <td>RickRock_1975</td>\n",
       "      <td>116</td>\n",
       "      <td>BGR</td>\n",
       "      <td>NEGATIVE</td>\n",
       "    </tr>\n",
       "    <tr>\n",
       "      <th>1</th>\n",
       "      <td>Bruno Gabriel Silva</td>\n",
       "      <td>blackfraude então</td>\n",
       "      <td>2018-11-15 20:51:02</td>\n",
       "      <td>Sescok</td>\n",
       "      <td>22</td>\n",
       "      <td>LST</td>\n",
       "      <td>NEGATIVE</td>\n",
       "    </tr>\n",
       "    <tr>\n",
       "      <th>2</th>\n",
       "      <td>Franklin</td>\n",
       "      <td>amanhã é blackfraude</td>\n",
       "      <td>2018-11-15 18:00:02</td>\n",
       "      <td>franklin_lessa</td>\n",
       "      <td>20</td>\n",
       "      <td>LST</td>\n",
       "      <td>NEGATIVE</td>\n",
       "    </tr>\n",
       "    <tr>\n",
       "      <th>3</th>\n",
       "      <td>André Soares</td>\n",
       "      <td>alerta blackfraude walmart sams club lenço ume...</td>\n",
       "      <td>2018-11-15 17:26:46</td>\n",
       "      <td>AndreSoares85</td>\n",
       "      <td>198</td>\n",
       "      <td>BGR</td>\n",
       "      <td>NEGATIVE</td>\n",
       "    </tr>\n",
       "    <tr>\n",
       "      <th>4</th>\n",
       "      <td>Renan Dias</td>\n",
       "      <td>absurdo pontofrio submarino americanascom fast...</td>\n",
       "      <td>2018-11-15 16:44:38</td>\n",
       "      <td>ree_atwood</td>\n",
       "      <td>274</td>\n",
       "      <td>MDN</td>\n",
       "      <td>POSITIVE</td>\n",
       "    </tr>\n",
       "    <tr>\n",
       "      <th>5</th>\n",
       "      <td>H E R I C  🐔</td>\n",
       "      <td>brasileiro transforma blackfriday blackfraude</td>\n",
       "      <td>2018-11-15 13:34:43</td>\n",
       "      <td>Jr_heric</td>\n",
       "      <td>52</td>\n",
       "      <td>LST</td>\n",
       "      <td>NEGATIVE</td>\n",
       "    </tr>\n",
       "    <tr>\n",
       "      <th>6</th>\n",
       "      <td>David Moraes</td>\n",
       "      <td>passando novamente dizer blackfraude começou s...</td>\n",
       "      <td>2018-11-15 01:34:01</td>\n",
       "      <td>David__Moraes</td>\n",
       "      <td>174</td>\n",
       "      <td>BGR</td>\n",
       "      <td>NEGATIVE</td>\n",
       "    </tr>\n",
       "    <tr>\n",
       "      <th>7</th>\n",
       "      <td>dona aranha</td>\n",
       "      <td>aiai anotando data inicio blackfraude loja tud...</td>\n",
       "      <td>2018-11-15 00:49:43</td>\n",
       "      <td>romulosotnas</td>\n",
       "      <td>97</td>\n",
       "      <td>LST</td>\n",
       "      <td>NEGATIVE</td>\n",
       "    </tr>\n",
       "    <tr>\n",
       "      <th>8</th>\n",
       "      <td>Heber Gouveia</td>\n",
       "      <td>blackfraude começou acompanhando preço tv 4k s...</td>\n",
       "      <td>2018-11-13 22:56:34</td>\n",
       "      <td>GouveiaHeber</td>\n",
       "      <td>136</td>\n",
       "      <td>BGR</td>\n",
       "      <td>NEGATIVE</td>\n",
       "    </tr>\n",
       "    <tr>\n",
       "      <th>9</th>\n",
       "      <td>Ciel Lykos  🔱</td>\n",
       "      <td>black friday chegando brasil é black fraude tu...</td>\n",
       "      <td>2018-11-13 22:17:56</td>\n",
       "      <td>ciellykos</td>\n",
       "      <td>171</td>\n",
       "      <td>BGR</td>\n",
       "      <td>NEGATIVE</td>\n",
       "    </tr>\n",
       "  </tbody>\n",
       "</table>\n",
       "</div>"
      ],
      "text/plain": [
       "              fullname                                               text  \\\n",
       "0        Ricardo André  hahahahah todo ano é mentira blackfraude https...   \n",
       "1  Bruno Gabriel Silva                                  blackfraude então   \n",
       "2             Franklin                               amanhã é blackfraude   \n",
       "3         André Soares  alerta blackfraude walmart sams club lenço ume...   \n",
       "4           Renan Dias  absurdo pontofrio submarino americanascom fast...   \n",
       "5         H E R I C  🐔      brasileiro transforma blackfriday blackfraude   \n",
       "6         David Moraes  passando novamente dizer blackfraude começou s...   \n",
       "7          dona aranha  aiai anotando data inicio blackfraude loja tud...   \n",
       "8        Heber Gouveia  blackfraude começou acompanhando preço tv 4k s...   \n",
       "9        Ciel Lykos  🔱  black friday chegando brasil é black fraude tu...   \n",
       "\n",
       "            timestamp            user  comment_length cluster polarities  \n",
       "0 2018-11-15 22:30:11   RickRock_1975             116     BGR   NEGATIVE  \n",
       "1 2018-11-15 20:51:02          Sescok              22     LST   NEGATIVE  \n",
       "2 2018-11-15 18:00:02  franklin_lessa              20     LST   NEGATIVE  \n",
       "3 2018-11-15 17:26:46   AndreSoares85             198     BGR   NEGATIVE  \n",
       "4 2018-11-15 16:44:38      ree_atwood             274     MDN   POSITIVE  \n",
       "5 2018-11-15 13:34:43        Jr_heric              52     LST   NEGATIVE  \n",
       "6 2018-11-15 01:34:01   David__Moraes             174     BGR   NEGATIVE  \n",
       "7 2018-11-15 00:49:43    romulosotnas              97     LST   NEGATIVE  \n",
       "8 2018-11-13 22:56:34    GouveiaHeber             136     BGR   NEGATIVE  \n",
       "9 2018-11-13 22:17:56       ciellykos             171     BGR   NEGATIVE  "
      ]
     },
     "execution_count": 21,
     "metadata": {},
     "output_type": "execute_result"
    }
   ],
   "source": [
    "df['text'] = df['text'].apply(stopwords)\n",
    "df.head(10)"
   ]
  },
  {
   "cell_type": "code",
   "execution_count": 22,
   "metadata": {},
   "outputs": [
    {
     "data": {
      "text/plain": [
       "dict_items([('hahahahah', 853), ('todo', 1713), ('ano', 176), ('mentira', 1089), ('blackfraude', 259), ('httpstwittercomwilliamsjosemirstatus1063088317737115651', 891), ('então', 673), ('amanhã', 165), ('alerta', 149), ('walmart', 1840), ('sams', 1581), ('club', 409), ('lenço', 1008), ('umedecido', 1747), ('pampers', 1270), ('misteriosamente', 1113), ('preço', 1421), ('1199', 9), ('sempre', 1599), ('ficou', 771), ('media', 1076), ('799', 76), ('blackfriday', 262), ('vai', 1756), ('estar', 702), ('899', 83), ('percam', 1309), ('absurdo', 95), ('pontofrio', 1389), ('submarino', 1655), ('americanascom', 169), ('fastshop', 750), ('casasbahia', 362), ('magazineluiza', 1056), ('diversas', 591), ('outras', 1249), ('lojas', 1042), ('aumentaram', 231), ('iphone', 966), ('8plus', 85), ('3500', 53), ('pra', 1403), ('4200', 61), ('bf', 256), ('voltarem', 1821), ('pro', 1432), ('normal', 1180), ('parecer', 1280), ('desconto', 545), ('vergonhoso', 1792), ('brasileiro', 302), ('transforma', 1728), ('passando', 1295), ('novamente', 1189), ('dizer', 597), ('começou', 433), ('sabe', 1567), ('preços', 1424), ('pretende', 1418), ('comprar', 441), ('certeza', 381), ('mesmos', 1095), ('semana', 1597), ('passada', 1291), ('aiai', 143), ('anotando', 179), ('data', 518), ('inicio', 953), ('loja', 1041), ('tudo', 1738), ('parece', 1279), ('poder', 1386), ('compra', 435), ('acompanhando', 107), ('tv', 1739), ('4k', 64), ('saltou', 1578), ('2400', 42), ('temers', 1680), ('2999', 46), ('hahahahahahahahaha', 854), ('cuidado', 497), ('black', 258), ('friday', 795), ('chegando', 389), ('brasil', 300), ('fraude', 792), ('metade', 1096), ('dobro', 599), ('blackfriday2018', 263), ('madeinbrazil', 1055), ('ebrasilpictwittercomyx1haul2yc', 619), ('faltam', 742), ('so', 1639), ('alguns', 155), ('dias', 571), ('ansiedade', 180), ('aumenta', 226), ('tá', 1740), ('pura', 1471), ('enganação', 655), ('subiram', 1654), ('voltar', 1820), ('antes', 186), ('blackfridaypictwittercomh0ayvuysrs', 269), ('pesquisando', 1325), ('compras', 443), ('internet', 960), ('fico', 770), ('dúvida', 616), ('compro', 448), ('logo', 1040), ('espero', 692), ('promoção', 1450), ('virou', 1809), ('tradição', 1727), ('fazer', 756), ('trouxas', 1736), ('2017', 32), ('kantartns', 986), ('estudou', 707), ('consumidores', 461), ('revelando', 1549), ('assuntos', 214), ('monitorar', 1124), ('evitar', 714), ('pesquisados', 1324), ('questionados', 1488), ('relação', 1531), ('entenda', 663), ('httpsgoogllxz9vd', 883), ('pictwittercomlrpbzjsdei', 1354), ('aguardo', 139), ('gastar', 817), ('dinheiro', 583), ('andrestato', 173), ('desde', 549), ('samba', 1580), ('total', 1722), ('custa', 503), ('350', 52), ('reais', 1508), ('meses', 1093), ('esperando', 690), ('baixar', 242), ('curso', 501), ('deste', 559), ('jeito', 975), ('dá', 611), ('primeira', 1427), ('dica', 574), ('esperar', 691), ('ver', 1787), ('vão', 1836), ('ficar', 769), ('negoço', 1158), ('kbm', 987), ('bons', 295), ('vezes', 1798), ('vc', 1766), ('acha', 102), ('umas', 1746), ('raridade', 1504), ('barata', 248), ('ml', 1114), ('el', 632), ('extiende', 724), ('hasta', 858), ('sunday', 1659), ('muchos', 1138), ('trabajadores', 1724), ('atrapados', 222), ('la', 998), ('llamada', 1031), ('del', 533), ('consumismo', 463), ('voraz', 1826), ('opta', 1236), ('un', 1748), ('consumo', 464), ('responsable', 1542), ('dejes', 532), ('llevar', 1035), ('narices', 1154), ('imponen', 933), ('año', 237), ('pasado', 1288), ('83', 80), ('los', 1046), ('pensaba', 1306), ('gran', 838), ('mayoría', 1071), ('comercios', 428), ('ofertaban', 1209), ('falsos', 740), ('descuentos', 548), ('httpsfacuaorg12188', 882), ('proconspoficial', 1440), ('proconspnablackfriday', 1439), ('site', 1633), ('httpswwwnescafedolcegustocombrblackfriday', 912), ('propaganda', 1453), ('enganosa', 657), ('oferece', 1207), ('cápsulas', 510), ('partir', 1285), ('099', 2), ('porém', 1394), ('opção', 1237), ('nestle', 1166), ('dolcegusto', 603), ('infelizmente', 939), ('kabumcombr', 985), ('entrou', 672), ('onda', 1227), ('vem', 1773), ('aí', 236), ('pictwittercomae4tge8vgp', 1340), ('alô', 164), ('cemig', 375), ('repor', 1533), ('queimada', 1483), ('favoritos', 752), ('29', 45), ('outubro', 1252), ('hj', 870), ('passou', 1296), ('183900', 23), ('223999', 37), ('entrando', 669), ('vez', 1797), ('pictwittercomc0xvzho9oj', 1345), ('cair', 324), ('galera', 806), ('façam', 757), ('pesquisas', 1326), ('vários', 1835), ('sites', 1634), ('veja', 1769), ('viável', 1816), ('produto', 1445), ('diasincompras2017', 572), ('contra', 473), ('viernes', 1804), ('23n', 41), ('68', 72), ('pm', 1382), ('en', 645), ('pza', 1472), ('españa', 687), ('junto', 981), ('dpz', 606), ('área', 1857), ('ecologistaszgz', 620), ('isfaragon', 971), ('hay', 859), ('alternativas', 161), ('al', 145), ('derroche', 542), ('compulsivo', 449), ('proyecto', 1457), ('ipcingenios', 965), ('producción', 1443), ('colectiva', 416), ('httpswwwecologistasenaccionorgp21782', 895), ('pictwittercomdd0govixan', 1346), ('pasa', 1287), ('estúpido', 708), ('diasincompras2018', 573), ('mesa', 1092), ('infofolletosvídeos', 943), ('animaciones', 174), ('basura', 251), ('electrónica', 634), ('textil', 1696), ('organizan', 1239), ('engañar', 658), ('infohttpswwwecologistasenaccionorgtribeeventszaragozadiasincompras2018', 944), ('pictwittercomtmszas4ol2', 1363), ('existe', 719), ('sim', 1627), ('olá', 1224), ('amiguinhos', 171), ('preparara', 1414), ('listinhas', 1027), ('fakes', 733), ('prints', 1431), ('varejistas', 1763), ('maquiados', 1064), ('ter', 1688), ('trabalho', 1726), ('próximos', 1464), ('acrescentou', 116), ('molho', 1119), ('aaah', 92), ('né', 1198), ('mcdonaldsbr', 1073), ('usei', 1754), ('cupom', 498), ('desse', 558), ('valor', 1758), ('mcdonaldspictwittercomdxfwlmlg1r', 1074), ('chegou', 392), ('feio', 762), ('hein', 863), ('monitorado', 1122), ('dois', 602), ('produtos', 1446), ('preciso', 1408), ('olha', 1218), ('quanto', 1479), ('pictwittercomqn2wsnyyje', 1359), ('ofertas', 1210), ('aqui', 205), ('diminuir', 581), ('pictwittercomdkjhlu9gld', 1347), ('gostei', 834), ('vídeo', 1839), ('youtube', 1852), ('httpyoutubecucer9we3kavai', 921), ('começar', 430), ('ai', 142), ('encarar', 647), ('poxa', 1401), ('voegoloficial', 1818), ('porque', 1391), ('regiões', 1528), ('norte', 1183), ('centrooeste', 379), ('preconceito', 1409), ('prontos', 1452), ('vou', 1827), ('chegar', 390), ('galerinha', 807), ('convidando', 475), ('sair', 1574), ('olho', 1222), ('aumentando', 229), ('valores', 1759), ('livros', 1030), ('tsc', 1737), ('books', 296), ('blackfridaypictwittercomrrnfwz80mo', 272), ('tentar', 1684), ('pedir', 1303), ('pc', 1299), ('nessa', 1162), ('ansiosamente', 181), ('gente', 827), ('aduana', 123), ('hace', 849), ('golpe', 832), ('las', 1002), ('online', 1229), ('justo', 983), ('fechas', 761), ('claves', 405), ('fin', 776), ('representates', 1534), ('yo', 1849), ('tengamos', 1682), ('otra', 1244), ('opción', 1231), ('httpswwwfacebookcom100000293080382posts2148184595201289', 897), ('muita', 1141), ('começa', 429), ('terminou', 1692), ('sei', 1596), ('lo', 1037), ('vendais', 1777), ('nuevos', 1195), ('reacondicionados', 1507), ('siempre', 1619), ('hacéis', 851), ('eso', 686), ('ontem', 1230), ('199900', 25), ('pena', 1305), ('tirei', 1706), ('print', 1430), ('hoje', 871), ('207900', 34), ('mesma', 1094), ('vamos', 1761), ('chega', 387), ('5a', 69), ('vermos', 1794), ('camisa', 329), ('200', 27), ('frete', 794), ('grátis', 844), ('aplicar', 197), ('passa', 1290), ('ser', 1605), ('150', 16), ('12', 10), ('162', 19), ('ate', 217), ('vasco', 1765), ('próprios', 1461), ('torcedores', 1720), ('vergonha', 1791), ('simm', 1628), ('funciona', 799), ('blackfriday2018pictwittercomnabct8xtxq', 264), ('livrarias', 1028), ('afins', 131), ('bora', 297), ('reduzir', 1524), ('ebook', 618), ('caro', 350), ('livro', 1029), ('físico', 805), ('pode', 1385), ('fecha', 760), ('portas', 1392), ('reclamar', 1518), ('crise', 489), ('verdades', 1790), ('blackfridayweekpictwittercomtb1niai8n6', 275), ('sera', 1606), ('consigo', 459), ('crushzin', 491), ('período', 1322), ('pictwittercom007w9woade', 1330), ('explicar', 721), ('pq', 1402), ('mês', 1150), ('passado', 1292), ('motoone', 1133), ('custando', 504), ('1499', 14), ('agora', 133), ('1572', 17), ('149750', 13), ('efeito', 629), ('logistas', 1039), ('aumentam', 228), ('15', 15), ('quinta', 1491), ('véspera', 1837), ('baixam', 240), ('enganados', 652), ('hora', 876), ('empresa', 643), ('procura', 1441), ('sinal', 1630), ('fumaça', 798), ('querer', 1485), ('monte', 1125), ('vendendo', 1780), ('tal', 1670), ('quais', 1477), ('capazes', 341), ('honrar', 875), ('sóquenão', 1668), ('httpstwittercomgoulartlenitastatus1064655093893660677', 888), ('zocprint', 1856), ('80', 78), ('quase', 1481), ('4000', 60), ('cartazes', 357), ('relativamente', 1530), ('perto', 1321), ('lojistas', 1044), ('posta', 1395), ('instagram', 955), ('toda', 1710), ('2000', 28), ('10000', 5), ('qdo', 1475), ('olhar', 1220), ('roupas', 1559), ('encalhadas', 646), ('300', 47), ('anos', 177), ('atrás', 223), ('deixar', 530), ('registrado', 1526), ('elogio', 640), ('honestidade', 873), ('época', 1859), ('smartphones', 1638), ('redução', 1525), ('significativa', 1622), ('ceder', 372), ('famosos', 747), ('descontos', 546), ('centavos', 376), ('terras', 1694), ('brasilis', 304), ('durante', 609), ('mierda', 1103), ('markt', 1069), ('3x2', 58), ('tintas', 1703), ('pero', 1319), ('web', 1843), ('tienen', 1699), ('quiero', 1490), ('queria', 1486), ('várias', 1834), ('coisas', 414), ('falta', 741), ('patrocínio', 1298), ('atenção', 221), ('subindo', 1653), ('dar', 517), ('pseudo', 1466), ('ops', 1235), ('gearbest', 823), ('hijacking', 869), ('money', 1121), ('scam', 1589), ('exposed', 723), ('httpswwwredditcomrgearbestcommentsa1bldsgearbestintentionallyhijackingmoney', 913), ('neveragain', 1170), ('gbneveragain', 822), ('china', 395), ('sigo', 1624), ('todas', 1711), ('dicas', 575), ('continuo', 471), ('500', 66), ('pilas', 1375), ('meio', 1082), ('inútil', 964), ('mim', 1109), ('cartão', 358), ('crédito', 492), ('torna', 1721), ('pré', 1459), ('pago', 1264), ('fim', 775), ('contas', 467), ('geladeira', 824), ('3k', 57), ('cartões', 359), ('pois', 1388), ('limite', 1021), ('nu', 1194), ('niizume', 1174), ('economizamos', 622), ('r8000', 1501), ('cidade', 397), ('vizinha', 1815), ('sobrinha', 1641), ('short', 1616), ('marca', 1065), ('morenarosa', 1129), ('atendente', 219), ('mostrou', 1131), ('r52700', 1497), ('vendido', 1782), ('r4900', 1496), ('chamar', 385), ('povo', 1400), ('burro', 314), ('boicote', 291), ('verdadeira', 1789), ('exclusiva', 717), ('roube', 1558), ('contribuinte', 474), ('leve', 1011), ('10', 3), ('sepultura', 1604), ('genocidas', 826), ('indultonão', 936), ('indultoéuminsulto', 937), ('adianta', 118), ('fala', 734), ('responder', 1540), ('some', 1645), ('blackfraudepontofrio', 261), ('reclame', 1520), ('afirmou', 132), ('2018', 33), ('230', 39), ('reclamações', 1519), ('31', 48), ('httpssriplcomtghzh3', 884), ('reclameaquipictwittercomag92qwf8wh', 1522), ('compre', 445), ('pague', 1265), ('nova', 1188), ('peixeurbano', 1304), ('reclameaqui', 1521), ('httpwwwreclameaquicombrpeixeurbanocompreipacotepara2pessoasemecobrarampor3pessoaswouaky6uosxfjmx3', 917), ('negócios', 1160), ('webseocommunitymanager', 1844), ('te', 1675), ('presentamos', 1415), ('datos', 519), ('si', 1617), ('fuistes', 797), ('afectado', 127), ('timo', 1702), ('dilo', 579), ('con', 451), ('nos', 1184), ('interesa', 957), ('todos', 1715), ('httpswwwdiurnaycomdatosestadisticasblackfriday2018', 894), ('pictwittercomkkdsugcepc', 1353), ('algumas', 154), ('resto', 1545), ('ainda', 144), ('jbc', 974), ('panini', 1271), ('newpoppictwittercomrpz00shhas', 1171), ('compramos', 438), ('portátil', 1393), ('carrefoures', 353), ('on', 1226), ('line', 1023), ('días', 613), ('confirman', 454), ('att', 224), ('cliente', 407), ('ha', 845), ('perdido', 1317), ('ahora', 141), ('debemos', 522), ('72h', 75), ('devuelvan', 569), ('dinero', 582), ('gastos', 819), ('envío', 675), ('primera', 1428), ('última', 1860), ('estafas', 698), ('cod', 412), ('comerciantes', 427), ('espírito', 695), ('descontar', 544), ('blackfridey', 276), ('caras', 347), ('pingo', 1377), ('cara', 345), ('pictwittercomq5j1h7eeb0', 1358), ('venho', 1784), ('semanas', 1598), ('lastimável', 1003), ('paguei', 1266), ('irão', 970), ('namorando', 1152), ('saraiva', 1586), ('aumentou', 233), ('custará', 506), ('próxima', 1462), ('sexta', 1612), ('custava', 507), ('caminho', 328), ('estamosdeolho', 699), ('membro', 1084), ('pouco', 1398), ('volta', 1819), ('181117', 22), ('shopping', 1615), ('rua', 1561), ('ciudad', 400), ('informe', 948), ('comprasparaguay', 444), ('ok', 1217), ('consumidor', 460), ('acompanho', 110), ('certos', 383), ('desejo', 551), ('percebi', 1311), ('real', 1509), ('costumam', 483), ('dependendo', 538), ('quantidade', 1478), ('hihi', 868), ('decepcionei', 524), ('deumzoom', 562), ('início', 963), ('pictwittercombk9dk9hfar', 1344), ('começaram', 431), ('mentiras', 1090), ('pictwittercomb5heeuqoqf', 1343), ('preçopictwittercomtvsq2jqxcf', 1423), ('httpswwwinstagramcompbqchhzhhcrlutmsourceigtwittershareigshidj4xp7nw8r0me', 906), ('procon', 1435), ('lista', 1025), ('deve', 564), ('evite', 715), ('httpswwwentendamaiscom201811proconlistasitesqueconsumidordevehtml', 896), ('dobrou', 601), ('passagens', 1293), ('prática', 1458), ('famoso', 746), ('sqn', 1647), ('aparece', 192), ('mt', 1135), ('tentação', 1686), ('to', 1709), ('caindo', 323), ('empresas', 644), ('apoiam', 198), ('fascismo卐', 749), ('poste', 1397), ('boicoteofascismo', 292), ('blackfridaybrasil', 265), ('blackfridayiscoming', 267), ('fascisminbrazil', 748), ('notmypresident', 1186), ('elenão', 635), ('euavisei', 712), ('bandidobomébandidoministropictwittercomntq5s8tnzw', 245), ('disseram', 587), ('realmente', 1511), ('dobraram', 598), ('1050ti', 6), ('1100', 8), ('vender', 1781), ('sendo', 1600), ('comprei', 446), ('igual', 929), ('fevereiro', 768), ('699', 73), ('tiram', 1704), ('vantagem', 1762), ('promoções', 1451), ('boas', 288), ('acharam', 105), ('lá', 1053), ('r111', 1493), ('r284', 1494), ('vinte', 1808), ('pictwittercomffvevagyjm', 1348), ('alguém', 156), ('ta', 1669), ('achando', 103), ('alguma', 153), ('coisa', 413), ('kkkkkkk', 992), ('legal', 1006), ('brazuca', 307), ('resume', 1546), ('banner', 247), ('estilizado', 703), ('postar', 1396), ('baixamos', 241), ('especialmente', 688), ('eletrônicos', 637), ('games', 811), ('vexame', 1796), ('pictwittercomb56fitzwdw', 1342), ('latambra', 1004), ('passagensque', 1294), ('desrespeito', 555), ('maior', 1057), ('erro', 681), ('achar', 104), ('monitoramos', 1123), ('preçopessoal', 1422), ('divulgar', 594), ('boicotar', 290), ('mañana', 1072), ('trabajo', 1725), ('apuñalare', 203), ('alguien', 152), ('una', 1749), ('percha', 1313), ('vinho', 1807), ('medalhas', 1075), ('santa', 1585), ('rita', 1553), ('gostoso', 835), ('honesto', 874), ('dor', 605), ('cabeça', 318), ('tomar', 1717), ('pão', 1473), ('açúcar', 235), ('dia', 570), ('2111', 35), ('samsung', 1582), ('j7', 973), ('r97500', 1502), ('familiaextra', 744), ('169900', 20), ('aguarda', 136), ('nesta', 1164), ('aguardando', 137), ('lideram', 1013), ('epa', 676), ('ricardoeletro', 1552), ('cdlbh', 371), ('mpfpgr', 1134), ('caiu', 325), ('direitinho', 584), ('conto', 472), ('segunda', 1594), ('kkk', 990), ('entendedores', 664), ('entenderão', 666), ('consciencianegra', 455), ('tengo', 1683), ('pedida', 1300), ('sdhuesca', 1590), ('todavía', 1712), ('estoy', 705), ('toma', 1716), ('ya', 1848), ('no', 1175), ('es', 683), ('fake', 730), ('preparando', 1413), ('httpswwwmediamarktesessearchhtmlsearchprofileonlineshopsearchparams2fsearchff3fquery3dred2bdead2bredemption2b226channel3dmmeseschannelmmesesstoreid121956langid5queryreddeadredemption2searchsubmitbuscar', 911), ('falar', 736), ('amazonas', 166), ('ferir', 766), ('bem', 254), ('baratos', 250), ('tao', 1672), ('abaixar', 93), ('provavelmente', 1455), ('única', 1862), ('interessa', 958), ('blackqualquercoisapictwittercomgbbr0ohdy4', 281), ('ué', 1755), ('fator', 751), ('httpstwittercomdellnobrasilstatus1062383099416330240', 887), ('deram', 541), ('kindle', 988), ('prevenido', 1419), ('marcando', 1066), ('deus', 563), ('segura', 1595), ('nesse', 1163), ('httpstwittercomjoaquinteixelrastatus1063400235345633280', 889), ('foda', 785), ('oba', 1200), ('menos', 1088), ('governosp', 837), ('blackfridaypictwittercomldkao2ijdf', 271), ('caí', 367), ('suuuuper', 1665), ('negócio', 1159), ('paga', 1259), ('receber', 1514), ('natalisso', 1156), ('problema', 1433), ('canseira', 337), ('submarinofail', 1656), ('interessei', 959), ('ventilador', 1785), ('iniciei', 952), ('processo', 1434), ('esqueci', 696), ('completar', 434), ('8990', 84), ('extra', 725), ('noite', 1178), ('lembrei', 1007), ('novo', 1192), ('operação', 1233), ('7990', 77), ('modelo', 1118), ('tirem', 1707), ('conclusões', 452), ('solicitei', 1644), ('2311', 40), ('pedido', 1301), ('análise', 191), ('informaram', 946), ('iriam', 967), ('ligar', 1017), ('número', 1199), ('061', 1), ('nada', 1151), ('blackfridaypictwittercomyfxcf3vac3', 273), ('ah', 140), ('claro', 403), ('note', 1185), ('golpes', 833), ('diz', 595), ('voltou', 1824), ('blk', 282), ('pictwittercomw7yo0coua0', 1364), ('quero', 1487), ('procongo', 1436), ('procongoiania', 1437), ('cdc', 369), ('pictwittercomwutl4pxhmg', 1367), ('outpremiumbsb', 1246), ('local', 1038), ('23', 38), ('depareime', 537), ('vi', 1799), ('agosto', 134), ('melhores', 1083), ('filas', 773), ('resumindo', 1547), ('iguais', 928), ('significativas', 1623), ('enormes', 662), ('sisqueci', 1632), ('procurar', 1442), ('temporada', 1681), ('netflix', 1168), ('blackfridaypictwittercomkwqj6vmdhm', 270), ('blusinha', 286), ('combinam', 420), ('cor', 476), ('cabelo', 317), ('pictwittercom2qorpioiyc', 1331), ('clarobrasil', 404), ('resolver', 1538), ('anateloficial', 172), ('kkkkkkkkkkkkkkkkkkkkkkkkkk', 995), ('sidnelson', 1618), ('liga', 1014), ('cai', 322), ('conta', 465), ('filho', 774), ('5min', 70), ('mamãe', 1059), ('salao', 1576), ('habéis', 848), ('visto', 1811), ('qué', 1492), ('bien', 257), ('queda', 1482), ('díasincompras', 614), ('gasteizhoy', 818), ('aún', 238), ('seguimos', 1591), ('recuperándonos', 1523), ('precios', 1407), ('perder', 1316), ('sentido', 1602), ('httpswwwgasteizhoycomropalimpiablackfridaydesmayo', 904), ('pictwittercomxh87dzjilf', 1369), ('pessoa', 1327), ('acaba', 96), ('visitar', 1810), ('perfil', 1318), ('httptwcmco0ejip', 916), ('graças', 843), ('poupe', 1399), ('pude', 1467), ('notícias', 1187), ('ligou', 1019), ('oferecer', 1208), ('excelente', 716), ('título', 1742), ('capitalização', 343), ('resgate', 1536), ('apenas', 196), ('cdb', 368), ('pagava', 1263), ('95', 88), ('cdi', 370), ('gratidao', 841), ('stf', 1649), ('governo', 836), ('temer', 1679), ('forças', 788), ('armadas', 206), ('vermelhas', 1793), ('aguardem', 138), ('bateria', 252), ('olhando', 1219), ('tava', 1673), ('34990', 51), ('parcelado', 1277), ('enganam', 653), ('falando', 735), ('original', 1241), ('39999', 56), ('aumentar', 230), ('deu', 561), ('pictwittercomzzepiofjjh', 1373), ('comece', 421), ('saber', 1569), ('talvez', 1671), ('paradas', 1275), ('verdade', 1788), ('aparelho', 194), ('olhei', 1221), ('cobrarem', 411), ('httpstwittercombraunermegdastatus1060846470251851776', 885), ('httpsyoutubebw3rz9yioas', 915), ('campaña', 332), ('ropa', 1554), ('limpia', 1022), ('vía', 1838), ('crlsetem', 490), ('setemhegohaizea', 1610), ('oioficial', 1215), ('2004', 29), ('plano', 1380), ('pós', 1474), ('2012', 30), ('respeito', 1539), ('incentivar', 935), ('brasileira', 301), ('migrar', 1104), ('vivobr', 1814), ('dai', 514), ('1057', 7), ('ouvir', 1254), ('bendito', 255), ('eduardo', 628), ('eletrônico', 636), ('conseguir', 457), ('voz', 1830), ('humana', 925), ('cada', 319), ('tentativa', 1685), ('perde', 1315), ('minutos', 1110), ('ouvindo', 1253), ('informações', 947), ('solicitadas', 1643), ('vencimento', 1775), ('etc', 710), ('recebi', 1515), ('ligação', 1018), ('migração', 1105), ('disse', 586), ('conseguiria', 458), ('adicionasse', 120), ('dependente', 539), ('oi', 1214), ('central', 378), ('atendimento', 220), ('aproveitando', 201), ('bota', 298), ('acho', 106), ('engraçado', 659), ('onde', 1228), ('insistem', 954), ('rotular', 1556), ('vida', 1802), ('anteciparam', 183), ('praticamente', 1405), ('deixa', 529), ('iludir', 930), ('caridade', 349), ('shop', 1614), ('suuuper', 1664), ('assadeira', 212), ('alumínio', 162), ('mil', 1106), ('cento', 377), ('sessenta', 1609), ('oito', 1216), ('corre', 478), ('longe', 1045), ('pictwittercomy0xupgmcr9', 1371), ('canto', 340), ('férias', 804), ('chegaram', 391), ('praia', 1404), ('mandou', 1060), ('correio', 479), ('dizendo', 596), ('favorável', 753), ('arropa', 208), ('ekoizten', 631), ('dutenek', 610), ('alditxarrak', 146), ('pairatzen', 1268), ('dituzte', 590), ('eta', 709), ('fridayn', 796), ('konortea', 997), ('galtzeko', 808), ('prezioak', 1420), ('edonon', 627), ('ditugu', 589), ('erosketarikgabekoeguna', 678), ('httpwwwsetemorgblogeuseuskadiablackfridayakoakonorteagaltzekoprezioakasalatudituztegasteizen', 919), ('pictwittercomqpdgikvcng', 1360), ('salarios', 1577), ('miseria', 1111), ('jornadas', 979), ('laborales', 999), ('eternas', 711), ('desmayos', 554), ('hagan', 852), ('pictwittercomgh3mmasuyn', 1349), ('ligado', 1015), ('tentei', 1687), ('sai', 1573), ('além', 163), ('difícil', 577), ('gamer', 810), ('moramos', 1126), ('cu', 494), ('vim', 1805), ('irmãozinho', 968), ('mientras', 1102), ('trabajadoras', 1723), ('desmayan', 553), ('sus', 1663), ('puestos', 1470), ('httpwwwsetemorgblogeseuskadiactivistasdenuncianenvitoriagasteizlosapreciosparaperderelsentidoadelablackfridaya', 918), ('pictwittercomhlndfcbtz7', 1350), ('denúncia', 536), ('zepeto', 1855), ('reparem', 1532), ('catálogo', 366), ('rosa', 1555), ('clara', 401), ('estampa', 700), ('formato', 787), ('coração', 477), ('zepeta', 1854), ('vivo', 1813), ('frase', 791), ('lado', 1000), ('direito', 585), ('pictwittercomiagcrpmvxe', 1351), ('buscape', 315), ('pictwittercomtdrqtc9fiw', 1362), ('aniversário', 175), ('tecnoedy', 1676), ('dcell', 520), ('fiquem', 780), ('ligados', 1016), ('esperada', 689), ('httpswwwfacebookcomedifeitosavideos1963034220447344', 899), ('roubado', 1557), ('studioz', 1650), ('mochila', 1116), ('menina', 1086), ('papai', 1274), ('noel', 1177), ('correios', 480), ('5990', 68), ('cheguei', 393), ('casa', 360), ('embalar', 642), ('presente', 1416), ('tirando', 1705), ('anterior', 185), ('3490', 50), ('expectativa', 720), ('realidade', 1510), ('pictwittercoma6fcuofrii', 1339), ('boa', 287), ('muambinhas', 1136), ('kkkkkk', 991), ('httpswwwfacebookcomerosdnaganumagalanteposts2511494312210399', 900), ('faltou', 743), ('adicionarem', 119), ('juízopq', 984), ('noção', 1193), ('br', 299), ('assim', 213), ('pictwittercomilq5wuxl6v', 1352), ('alegria', 148), ('pobre', 1384), ('árvore', 1858), ('natal', 1155), ('quadrilhãodopt', 1476), ('lugar', 1048), ('trending', 1731), ('topics', 1718), ('faz', 755), ('blackfraudedopt', 260), ('organização', 1240), ('criminosapictwittercomvggyfpz3rz', 488), ('rs', 1560), ('principalmente', 1429), ('espetinho', 694), ('gato', 821), ('kk', 989), ('goiânia', 831), ('brazil', 306), ('httpswwwinstagramcompbqiqknbfqq1utmsourceigtwittershareigshidzby7onrgkh5', 908), ('colombia', 419), ('sitios', 1636), ('mlcolombia', 1115), ('celulares', 374), ('estan', 701), ('caros', 351), ('defensoria910', 527), ('revela', 1548), ('grandes', 840), ('almacenes', 159), ('casas', 361), ('comerciales', 426), ('httpstwittercomdefensoria910status1066051854033928193', 886), ('burguerk', 312), ('restaurantes', 1544), ('nenhum', 1161), ('participando', 1283), ('aumento', 232), ('manera', 1061), ('encontrar', 650), ('escapadita', 684), ('medio', 1080), ('apañada', 195), ('xd', 1846), ('voy', 1829), ('oslo', 1243), ('maleta', 1058), ('facturada', 728), ('asiento', 211), ('reservado', 1535), ('13', 12), ('alicante', 157), ('cómo', 512), ('vuelvo', 1832), ('eh', 630), ('euros', 713), ('más', 1145), ('tienes', 1700), ('vuelta', 1831), ('clica', 406), ('entrar', 670), ('muda', 1139), ('calçado', 327), ('couro', 486), ('anunciando', 190), ('pano', 1272), ('outro', 1250), ('siganetshoeshttpstwittercompromobitoficialstatus1066106629198934016', 1621), ('ecuadorsh', 624), ('digo', 578), ('telefonía', 1678), ('habia', 846), ('ofertones', 1211), ('s8', 1564), ('379', 55), ('p20', 1257), ('huawei', 924), ('cuando', 495), ('son', 1646), ('499', 62), ('dime', 580), ('puedes', 1469), ('generalizar', 825), ('fabricantes', 727), ('quienes', 1489), ('determinan', 560), ('precio', 1406), ('allí', 158), ('oficial', 1212), ('olympikus', 1223), ('tênis', 1741), ('20', 26), ('quarta', 1480), ('obs', 1201), ('acabei', 99), ('comprando', 439), ('fila', 772), ('dafiti', 513), ('fiquei', 779), ('satisfeita', 1587), ('comprinha', 447), ('feita', 763), ('merda', 1091), ('consegui', 456), ('acessar', 101), ('saite', 1575), ('mappin', 1063), ('netatende', 1167), ('sensacionalpictwittercom9kjfawc1yl', 1601), ('mano', 1062), ('pictwittercompjuqvvbuya', 1357), ('tô', 1743), ('ansioso', 182), ('eliseuss', 639), ('ocorvo', 1205), ('marcelo04346868', 1068), ('fchaves2', 759), ('faxinanopoder', 754), ('joelalexandrem', 976), ('pictwittercomo7qdxe8pzi', 1355), ('errado', 680), ('foto', 789), ('blackfridayweek', 274), ('pictwittercoma1c8jnguue', 1338), ('httpswwwfacebookcom100001421921456posts2080493072008070', 898), ('protejase', 1454), ('fraudes', 793), ('brunocorrea', 309), ('comprarnablackfridayhttpssextoublogbrprotejasedasfraudesdablackfridaybrasileirahtml', 442), ('pictwittercom7wppuel73n', 1335), ('equipamentos', 677), ('video', 1803), ('game', 809), ('uns', 1752), ('40', 59), ('aconteceu', 112), ('celular', 373), ('r635', 1498), ('r799', 1500), ('super', 1660), ('descontão', 547), ('r650', 1499), ('brèsiu', 310), ('siu', 1637), ('quer', 1484), ('promo', 1447), ('8090', 79), ('dê', 612), ('dividir', 592), ('siiiiiiim', 1626), ('peraí', 1308), ('pah', 1267), ('enganatrouxa', 654), ('metadedodobrodepreco', 1098), ('jqteix', 980), ('prima', 1426), ('luxo', 1052), ('tbm', 1674), ('sabendo', 1568), ('algopictwittercomcw2rgz3mlr', 151), ('pictwittercomodsntokbb0', 1356), ('adorei', 122), ('sincera', 1631), ('pictwittercomazvihjo5ju', 1341), ('espertxs', 693), ('velocidad', 1772), ('elcorteingles', 633), ('cargar', 348), ('pinchas', 1376), ('algo', 150), ('pierde', 1374), ('sesión', 1608), ('iniciada', 950), ('cesta', 384), ('desaparece', 543), ('encima', 648), ('590', 67), ('vas', 1764), ('buscar', 316), ('comecou', 422), ('httpswwwfacebookcompontofriophotosa1015019335334571710161256812770717type3theater', 902), ('vejam', 1770), ('comentários', 425), ('cep', 380), ('invalido', 961), ('errou', 682), ('rude', 1562), ('saco', 1571), ('cheio', 394), ('dessas', 557), ('aproveitem', 202), ('kkkmm', 996), ('uniateneu', 1751), ('httpswwwinstagramcompbqdwjzshimiutmsourceigtwittershareigshid1bn2th62tgqje', 907), ('horas', 877), ('carrefourbrasil', 352), ('50', 65), ('telefone', 1677), ('asus', 215), ('asusbr', 216), ('httpswwwfacebookcomlendariosmmoposts1874271526026496', 901), ('heim', 862), ('blacklistpictwittercom45gdu1dx89', 279), ('vcs', 1767), ('piada', 1328), ('siganetshoes', 1620), ('camiseta', 330), ('custar', 505), ('89', 81), ('60', 71), ('vendem', 1779), ('prestam', 1417), ('fakenewspictwittercompy7qf0qrc7', 731), ('medir', 1081), ('inflação', 941), ('chegada', 388), ('normalidade', 1181), ('hacer', 850), ('tienda', 1698), ('moda', 1117), ('httpbitlybfridaysiono', 879), ('entramos', 668), ('debate', 521), ('momento', 1120), ('yosihagoblackfriday', 1851), ('yonohagoblackfriday', 1850), ('además', 117), ('hablar', 847), ('impacto', 931), ('promoción', 1448), ('estrategias', 706), ('ecommerce', 621), ('mucho', 1137), ('máspictwittercomw3wugjvy8z', 1146), ('atá', 225), ('pictwittercom9b6zrwuijf', 1336), ('divulga', 593), ('httpswpmep5x9bitck', 893), ('listadesites', 1026), ('metadedodobro', 1097), ('sitescomfraudepictwittercomajp6wga9dq', 1635), ('lógico', 1054), ('pictwittercomr9ns8qz95g', 1361), ('poderia', 1387), ('nao', 1153), ('ne', 1157), ('desejos', 552), ('regulares', 1529), ('devidamente', 565), ('anotados', 178), ('proconrj', 1438), ('bomm', 294), ('falaram', 737), ('opções', 1238), ('baixo', 243), ('brasillll', 305), ('acordou', 113), ('neste', 1165), ('outra', 1248), ('observando', 1202), ('iniciando', 951), ('90', 86), ('usa', 1753), ('enganações', 656), ('colocar', 418), ('novembro', 1190), ('baixou', 244), ('aff', 130), ('lojasamericanas', 1043), ('dando', 515), ('aumentada', 227), ('setor', 1611), ('aquela', 204), ('precos', 1410), ('parkshopping', 1282), ('voltei', 1822), ('sentindo', 1603), ('terminó', 1693), ('fakenewsqto', 732), ('custou', 508), ('anuncia', 188), ('editoria', 626), ('falidacade', 738), ('noblat', 1176), ('bloqueia', 284), ('contesta', 468), ('famosa', 745), ('fone', 786), ('palmeiras', 1269), ('ganha', 812), ('leva', 1009), ('kkkkkkkk', 993), ('lucas', 1047), ('acabamos', 97), ('perceber', 1310), ('vencidos', 1774), ('capitalismo', 342), ('vende', 1778), ('vontade', 1825), ('viver', 1812), ('impressão', 934), ('ocorreu', 1204), ('creio', 487), ('marcas', 1067), ('levaram', 1010), ('sério', 1667), ('outros', 1251), ('paodeacucar', 1273), ('pagamento', 1260), ('aprovado', 200), ('sextafeira', 1613), ('recebo', 1516), ('email', 641), ('pedindo', 1302), ('alterar', 160), ('método', 1149), ('esgotados', 685), ('faço', 758), ('agr', 135), ('buenasnoches', 311), ('feliz', 764), ('pictwittercomwcogwxhhpy', 1365), ('ticketmasteres', 1697), ('cirque', 399), ('du', 607), ('soleil', 1642), ('ovo', 1255), ('murcia', 1143), ('inexistentes', 938), ('pesar', 1323), ('anunciado', 189), ('vuestra', 1833), ('home', 872), ('alegir', 147), ('blackfridaypictwittercomcojjormsib', 268), ('irritante', 969), ('dessa', 556), ('versão', 1795), ('termina', 1691), ('engana', 651), ('bobo', 289), ('distraídos', 588), ('acreditam', 114), ('grande', 839), ('abrem', 94), ('mão', 1148), ('juros', 982), ('parcelam', 1278), ('asi', 209), ('mayoria', 1070), ('establecimientos', 697), ('inflan', 940), ('anticipación', 187), ('ud', 1745), ('perciba', 1314), ('barato', 249), ('canso', 338), ('decirlo', 525), ('salvador', 1579), ('burla', 313), ('consumidorpictwittercomxdstcpymn9', 462), ('gianeguerra', 829), ('economizei', 623), ('motivo', 1132), ('circuito', 398), ('carrera', 355), ('go', 830), ('carrefus', 354), ('comprado', 437), ('antelación', 184), ('mismo', 1112), ('hoy', 878), ('sin', 1629), ('6999', 74), ('hemosidoengañadospictwittercompo8lqx6vu1', 865), ('devo', 566), ('morar', 1127), ('mundo', 1142), ('churrasqueadaspictwittercomumtsjwksnq', 396), ('netshoes', 1169), ('httpstwittercomyuriheavymetalstatus1066669514669113345s12', 892), ('dei', 528), ('avó', 234), ('vela', 1771), ('troco', 1734), ('vovó', 1828), ('pensando', 1307), ('gratis', 842), ('parça', 1286), ('saga', 1572), ('enlouquecer', 661), ('cosmeticos', 482), ('fisgada', 781), ('ombro', 1225), ('httpsyoutube3tmiyeyfc', 914), ('sabado', 1565), ('saudavel', 1588), ('treino', 1730), ('academia', 100), ('sabadodetremurasdv', 1566), ('afazenda10', 126), ('youtuber', 1853), ('humor', 926), ('memes', 1085), ('comedia', 423), ('morenomalhador', 1130), ('fit', 782), ('musculacao', 1144), ('sábado', 1666), ('pictwittercom7adfndz3lv', 1334), ('gastando', 816), ('comendo', 424), ('mordidela', 1128), ('treinando', 1729), ('headshot', 860), ('fuzileirosairsoft', 802), ('venécia', 1786), ('httpswwwinstagramcompbqlphabdxqhutmsourceigtwittershareigshidh3z9fjyhp9r3', 909), ('bangladés', 246), ('2013', 31), ('colapsó', 415), ('edificio', 625), ('donde', 604), ('miles', 1107), ('personas', 1320), ('cosían', 485), ('occidente', 1203), ('condiciones', 453), ('infrahumanas', 949), ('casi', 363), ('1200', 11), ('muertoseso', 1140), ('suave', 1651), ('cartaosubmarino', 356), ('resisti', 1537), ('falindo', 739), ('liked', 1020), ('httpyoutubedtygkat4osa', 922), ('unboxing', 1750), ('cm', 410), ('hyper', 927), ('212x', 36), ('httpyoutubexnpqrqvs8aa', 923), ('imploro', 932), ('funcione', 800), ('blackfryday', 277), ('nome', 1179), ('pictwittercom4zinbnjw9g', 1333), ('cuánto', 509), ('dura', 608), ('amigo', 170), ('rasgo', 1505), ('costurar', 484), ('dói', 615), ('amem', 167), ('pictwittercomx3um3re4iz', 1368), ('acabará', 98), ('blockchain', 283), ('registro', 1527), ('cadena', 320), ('bloques', 285), ('producto', 1444), ('info', 942), ('características', 346), ('hará', 856), ('investigar', 962), ('fluctuación', 784), ('intentar', 956), ('demostra', 535), ('rcon', 1506), ('fotos', 790), ('ni', 1173), ('capturas', 344), ('llegado', 1034), ('patata', 1297), ('parecido', 1281), ('han', 855), ('hecho', 861), ('xiaomihttpstwittercommickygascostatus1066308335174123520', 1847), ('brasileirão', 303), ('final', 777), ('ganho', 815), ('jogos', 978), ('começo', 432), ('pagar', 1262), ('bom', 293), ('canalpremiere', 333), ('pictwittercom4mznjfydi2', 1332), ('afectadosxboxonexmediamarkt', 128), ('facua', 729), ('mediamarktac', 1078), ('casualidad', 365), ('rebajado', 1512), ('sigue', 1625), ('mediamarktes', 1079), ('popular', 1390), ('mediamarkt', 1077), ('recibiendo', 1517), ('críticas', 493), ('servicio', 1607), ('ofrecido', 1213), ('contamos', 466), ('ocurrido', 1206), ('viatea', 1801), ('afectadosxboxonexmediamarkthttpsviateaesnoticiasmediamarktcriticasblackfriday', 129), ('1000', 4), ('testar', 1695), ('99', 90), ('ganhar', 813), ('proximas', 1456), ('corridas', 481), ('toque', 1719), ('link', 1024), ('seguir', 1593), ('viagem', 1800), ('pagando', 1261), ('httpsd99appcomrzy5wgg7pmognsharechanneltwitter', 881), ('uber', 1744), ('cupomdesconto', 499), ('cupomuber', 500), ('metrosppictwittercomcrgiprwmw3', 1100), ('fácil', 803), ('coloca', 417), ('venda', 1776), ('cancela', 335), ('clientes', 408), ('certo', 382), ('explicação', 722), ('devolve', 567), ('atende', 218), ('sac', 1570), ('valeu', 1757), ('cancelar', 336), ('terem', 1689), ('informar', 945), ('blackfridaybrasilhttpstwittercomreclameaquistatus1066164772490682371', 266), ('gata', 820), ('daquilo', 516), ('cantadas', 339), ('trocadilhos', 1732), ('httpswwwfacebookcomthinformavideos834156253642551', 903), ('fiz', 783), ('ea', 617), ('aprendeu', 199), ('kkkkkkkkkkk', 994), ('ferrei', 767), ('lulalivre', 1050), ('lulalibrepictwittercomo0wca4fyql', 1049), ('ruim', 1563), ('operadoraoi', 1232), ('ganhe', 814), ('curtiu', 502), ('depués', 540), ('llunes', 1036), ('prietu', 1425), ('pa', 1258), ('piqueños', 1379), ('httpswwwinfoasturiescomas20181126depuesdelblackfridayllunesprietupalospiquenoscomercios', 905), ('httpstwittercomreclameaquistatus1066164772490682371', 890), ('prensarank', 1412), ('dice', 576), ('mi', 1101), ('oye', 1256), ('hice', 867), ('caso', 364), ('has', 857), ('timao', 1701), ('recarga', 1513), ('96', 89), ('enlaces', 660), ('código', 511), ('pasaste', 1289), ('cuenta', 496), ('prensablack', 1411), ('breve', 308), ('comunicado', 450), ('aconsejar', 111), ('metan', 1099), ('blackhole', 278), ('esto', 704), ('llamo', 1033), ('felizlunes', 765), ('lungentechachi26novpictwittercom0xziaogayh', 1051), ('le', 1005), ('pueden', 1468), ('llamarlos', 1032), ('compransobre', 440), ('todoblackfraude', 1714), ('sobre', 1640), ('outpremiumssa', 1247), ('pior', 1378), ('camisetas', 331), ('heringoficial', 866), ('3590', 54), ('r2990', 1495), ('calça', 326), ('tng', 1708), ('9990', 91), ('comprada', 436), ('9000', 87), ('asicsbrasil', 210), ('superior', 1661), ('ae', 125), ('trocar', 1733), ('enviado', 674), ('encomenda', 649), ('cadê', 321), ('orra', 1242), ('adidas', 121), ('advantage', 124), ('16000', 18), ('devolver', 568), ('menor', 1087), ('nunca', 1196), ('apareceu', 193), ('26999', 44), ('defeitors', 526), ('liberdade', 1012), ('voar', 1817), ('teresina', 1690), ('piauí', 1329), ('httpswwwinstagramcompbqo7bgphyjutmsourceigtwittershareigshid1il11bykk879v', 910), ('samsungbrasil', 1583), ('eleva', 638), ('normalmente', 1182), ('revendedores', 1550), ('própria', 1460), ('entender', 665), ('nãomeengananão', 1197), ('issoaquiébrasil', 972), ('32', 49), ('milhas', 1108), ('rezando', 1551), ('httpyoutubecucer9we3ka', 920), ('trouxa', 1735), ('entrei', 671), ('americanas', 168), ('participantes', 1284), ('walmartcom', 1842), ('futfanatics', 801), ('percepção', 1312), ('errada', 679), ('geral', 828), ('4990a', 63), ('8900', 82), ('beleza', 253), ('respondi', 1541), ('opinião', 1234), ('continua', 470), ('ressaltar', 1543), ('extrafraude', 726), ('nf', 1172), ('02', 0), ('supermercados', 1662), ('suco', 1658), ('vebdjdk', 1768), ('pictwittercomwuhhsnmff5', 1366), ('acreditei', 115), ('novidade', 1191), ('dellnobrasil', 534), ('2500', 43), ('play', 1381), ('subida', 1652), ('submarinopictwittercom0tvgvdb98t', 1657), ('seguindo', 1592), ('claramente', 402), ('últimos', 1861), ('voltem', 1823), ('pictwittercom9i0xn34rha', 1337), ('jogo', 977), ('xbox', 1845), ('vindo', 1806), ('steam', 1648), ('exijo', 718), ('fique', 778), ('deceit', 523), ('samura', 1584), ('entendi', 667), ('arr', 207), ('hemos', 864), ('lanzado', 1001), ('vamonos', 1760), ('bailar', 239), ('httpsbitly2kirk9t', 880), ('pictwittercomzoizlngbev', 1372), ('acompanhem', 109), ('conti', 469), ('dobrohttpstwittercomismaellealstatus1064609792772239360', 600), ('pneu', 1383), ('17800', 21), ('próximo', 1463), ('19900', 24), ('acompanhar', 108), ('promos', 1449), ('pictwittercomxitljiambn', 1370), ('vendo', 1783), ('ps4', 1465), ('walmartbr', 1841), ('canalshoptime', 334), ('máximo', 1147), ('r990', 1503), ('deixou', 531), ('desejar', 550), ('parado', 1276), ('check', 386), ('out', 1245), ('blackpostpictwittercomgg0xye1mdz', 280)])"
      ]
     },
     "execution_count": 22,
     "metadata": {},
     "output_type": "execute_result"
    }
   ],
   "source": [
    "# create a count vectorizer object\n",
    "count_vectorizer = CountVectorizer()\n",
    "# fit the count vectorizer using the text data\n",
    "count_vectorizer.fit(df['text'])\n",
    "# collect used words and vectorizer\n",
    "dictionary = count_vectorizer.vocabulary_.items()  \n",
    "dictionary"
   ]
  },
  {
   "cell_type": "code",
   "execution_count": 23,
   "metadata": {},
   "outputs": [
    {
     "data": {
      "text/plain": [
       "<matplotlib.axes._subplots.AxesSubplot at 0x7f3d04367668>"
      ]
     },
     "execution_count": 23,
     "metadata": {},
     "output_type": "execute_result"
    },
    {
     "data": {
      "image/png": "[encoded data removed]",
      "text/plain": [
       "<Figure size 360x720 with 1 Axes>"
      ]
     },
     "metadata": {
      "image/png": {
       "height": 576,
       "width": 348
      }
     },
     "output_type": "display_data"
    }
   ],
   "source": [
    "vocab = []\n",
    "count = []\n",
    "# count and add each vocab to list\n",
    "for key, value in dictionary:\n",
    "    vocab.append(key)\n",
    "    count.append(value)\n",
    "# store the count in panadas dataframe with vocab as index\n",
    "vocab_after = pd.Series(count, index=vocab)\n",
    "# sort the dataframe\n",
    "vocab_after = vocab_after.sort_values(ascending=True)\n",
    "# plot of the top vocab\n",
    "top_vacab = vocab_after.head(10)\n",
    "top_vacab.plot(kind = 'barh', figsize=(5,10), xlim= (15120, 15145))"
   ]
  },
  {
   "cell_type": "code",
   "execution_count": 24,
   "metadata": {},
   "outputs": [],
   "source": [
    "def length(text):    \n",
    "    '''a function which returns the length of text'''\n",
    "    return len(text)"
   ]
  },
  {
   "cell_type": "code",
   "execution_count": 25,
   "metadata": {},
   "outputs": [
    {
     "data": {
      "text/html": [
       "<div>\n",
       "<style scoped>\n",
       "    .dataframe tbody tr th:only-of-type {\n",
       "        vertical-align: middle;\n",
       "    }\n",
       "\n",
       "    .dataframe tbody tr th {\n",
       "        vertical-align: top;\n",
       "    }\n",
       "\n",
       "    .dataframe thead th {\n",
       "        text-align: right;\n",
       "    }\n",
       "</style>\n",
       "<table border=\"1\" class=\"dataframe\">\n",
       "  <thead>\n",
       "    <tr style=\"text-align: right;\">\n",
       "      <th></th>\n",
       "      <th>fullname</th>\n",
       "      <th>text</th>\n",
       "      <th>timestamp</th>\n",
       "      <th>user</th>\n",
       "      <th>comment_length</th>\n",
       "      <th>cluster</th>\n",
       "      <th>polarities</th>\n",
       "      <th>length</th>\n",
       "    </tr>\n",
       "  </thead>\n",
       "  <tbody>\n",
       "    <tr>\n",
       "      <th>0</th>\n",
       "      <td>Ricardo André</td>\n",
       "      <td>hahahahah todo ano é mentira blackfraude https...</td>\n",
       "      <td>2018-11-15 22:30:11</td>\n",
       "      <td>RickRock_1975</td>\n",
       "      <td>116</td>\n",
       "      <td>BGR</td>\n",
       "      <td>NEGATIVE</td>\n",
       "      <td>98</td>\n",
       "    </tr>\n",
       "    <tr>\n",
       "      <th>1</th>\n",
       "      <td>Bruno Gabriel Silva</td>\n",
       "      <td>blackfraude então</td>\n",
       "      <td>2018-11-15 20:51:02</td>\n",
       "      <td>Sescok</td>\n",
       "      <td>22</td>\n",
       "      <td>LST</td>\n",
       "      <td>NEGATIVE</td>\n",
       "      <td>17</td>\n",
       "    </tr>\n",
       "    <tr>\n",
       "      <th>2</th>\n",
       "      <td>Franklin</td>\n",
       "      <td>amanhã é blackfraude</td>\n",
       "      <td>2018-11-15 18:00:02</td>\n",
       "      <td>franklin_lessa</td>\n",
       "      <td>20</td>\n",
       "      <td>LST</td>\n",
       "      <td>NEGATIVE</td>\n",
       "      <td>20</td>\n",
       "    </tr>\n",
       "    <tr>\n",
       "      <th>3</th>\n",
       "      <td>André Soares</td>\n",
       "      <td>alerta blackfraude walmart sams club lenço ume...</td>\n",
       "      <td>2018-11-15 17:26:46</td>\n",
       "      <td>AndreSoares85</td>\n",
       "      <td>198</td>\n",
       "      <td>BGR</td>\n",
       "      <td>NEGATIVE</td>\n",
       "      <td>148</td>\n",
       "    </tr>\n",
       "    <tr>\n",
       "      <th>4</th>\n",
       "      <td>Renan Dias</td>\n",
       "      <td>absurdo pontofrio submarino americanascom fast...</td>\n",
       "      <td>2018-11-15 16:44:38</td>\n",
       "      <td>ree_atwood</td>\n",
       "      <td>274</td>\n",
       "      <td>MDN</td>\n",
       "      <td>POSITIVE</td>\n",
       "      <td>234</td>\n",
       "    </tr>\n",
       "    <tr>\n",
       "      <th>5</th>\n",
       "      <td>H E R I C  🐔</td>\n",
       "      <td>brasileiro transforma blackfriday blackfraude</td>\n",
       "      <td>2018-11-15 13:34:43</td>\n",
       "      <td>Jr_heric</td>\n",
       "      <td>52</td>\n",
       "      <td>LST</td>\n",
       "      <td>NEGATIVE</td>\n",
       "      <td>45</td>\n",
       "    </tr>\n",
       "    <tr>\n",
       "      <th>6</th>\n",
       "      <td>David Moraes</td>\n",
       "      <td>passando novamente dizer blackfraude começou s...</td>\n",
       "      <td>2018-11-15 01:34:01</td>\n",
       "      <td>David__Moraes</td>\n",
       "      <td>174</td>\n",
       "      <td>BGR</td>\n",
       "      <td>NEGATIVE</td>\n",
       "      <td>110</td>\n",
       "    </tr>\n",
       "    <tr>\n",
       "      <th>7</th>\n",
       "      <td>dona aranha</td>\n",
       "      <td>aiai anotando data inicio blackfraude loja tud...</td>\n",
       "      <td>2018-11-15 00:49:43</td>\n",
       "      <td>romulosotnas</td>\n",
       "      <td>97</td>\n",
       "      <td>LST</td>\n",
       "      <td>NEGATIVE</td>\n",
       "      <td>67</td>\n",
       "    </tr>\n",
       "    <tr>\n",
       "      <th>8</th>\n",
       "      <td>Heber Gouveia</td>\n",
       "      <td>blackfraude começou acompanhando preço tv 4k s...</td>\n",
       "      <td>2018-11-13 22:56:34</td>\n",
       "      <td>GouveiaHeber</td>\n",
       "      <td>136</td>\n",
       "      <td>BGR</td>\n",
       "      <td>NEGATIVE</td>\n",
       "      <td>95</td>\n",
       "    </tr>\n",
       "    <tr>\n",
       "      <th>9</th>\n",
       "      <td>Ciel Lykos  🔱</td>\n",
       "      <td>black friday chegando brasil é black fraude tu...</td>\n",
       "      <td>2018-11-13 22:17:56</td>\n",
       "      <td>ciellykos</td>\n",
       "      <td>171</td>\n",
       "      <td>BGR</td>\n",
       "      <td>NEGATIVE</td>\n",
       "      <td>145</td>\n",
       "    </tr>\n",
       "  </tbody>\n",
       "</table>\n",
       "</div>"
      ],
      "text/plain": [
       "              fullname                                               text  \\\n",
       "0        Ricardo André  hahahahah todo ano é mentira blackfraude https...   \n",
       "1  Bruno Gabriel Silva                                  blackfraude então   \n",
       "2             Franklin                               amanhã é blackfraude   \n",
       "3         André Soares  alerta blackfraude walmart sams club lenço ume...   \n",
       "4           Renan Dias  absurdo pontofrio submarino americanascom fast...   \n",
       "5         H E R I C  🐔      brasileiro transforma blackfriday blackfraude   \n",
       "6         David Moraes  passando novamente dizer blackfraude começou s...   \n",
       "7          dona aranha  aiai anotando data inicio blackfraude loja tud...   \n",
       "8        Heber Gouveia  blackfraude começou acompanhando preço tv 4k s...   \n",
       "9        Ciel Lykos  🔱  black friday chegando brasil é black fraude tu...   \n",
       "\n",
       "            timestamp            user  comment_length cluster polarities  \\\n",
       "0 2018-11-15 22:30:11   RickRock_1975             116     BGR   NEGATIVE   \n",
       "1 2018-11-15 20:51:02          Sescok              22     LST   NEGATIVE   \n",
       "2 2018-11-15 18:00:02  franklin_lessa              20     LST   NEGATIVE   \n",
       "3 2018-11-15 17:26:46   AndreSoares85             198     BGR   NEGATIVE   \n",
       "4 2018-11-15 16:44:38      ree_atwood             274     MDN   POSITIVE   \n",
       "5 2018-11-15 13:34:43        Jr_heric              52     LST   NEGATIVE   \n",
       "6 2018-11-15 01:34:01   David__Moraes             174     BGR   NEGATIVE   \n",
       "7 2018-11-15 00:49:43    romulosotnas              97     LST   NEGATIVE   \n",
       "8 2018-11-13 22:56:34    GouveiaHeber             136     BGR   NEGATIVE   \n",
       "9 2018-11-13 22:17:56       ciellykos             171     BGR   NEGATIVE   \n",
       "\n",
       "   length  \n",
       "0      98  \n",
       "1      17  \n",
       "2      20  \n",
       "3     148  \n",
       "4     234  \n",
       "5      45  \n",
       "6     110  \n",
       "7      67  \n",
       "8      95  \n",
       "9     145  "
      ]
     },
     "execution_count": 25,
     "metadata": {},
     "output_type": "execute_result"
    }
   ],
   "source": [
    "df['length'] = df['text'].apply(length)\n",
    "df.head(10)"
   ]
  },
  {
   "cell_type": "code",
   "execution_count": 26,
   "metadata": {},
   "outputs": [],
   "source": [
    "LST_data = df[df['cluster'] == 'LST']\n",
    "MDN_data = df[df['cluster'] == 'MDN']\n",
    "BGR_data = df[df['cluster'] == 'BGR']"
   ]
  },
  {
   "cell_type": "markdown",
   "metadata": {},
   "source": [
    "## Histogram of text lenght of each writer"
   ]
  },
  {
   "cell_type": "code",
   "execution_count": 27,
   "metadata": {},
   "outputs": [
    {
     "data": {
      "image/png": "[encoded data removed]",
      "text/plain": [
       "<Figure size 1440x864 with 1 Axes>"
      ]
     },
     "metadata": {
      "image/png": {
       "height": 698,
       "width": 1166
      }
     },
     "output_type": "display_data"
    }
   ],
   "source": [
    "matplotlib.rcParams['figure.figsize'] = (20.0, 12.0)\n",
    "bins = 500\n",
    "plt.hist(LST_data['length'], alpha = 0.6, bins=bins, label='LST', color='black')\n",
    "plt.hist(MDN_data['length'], alpha = 0.4, bins=bins, label='MDN', color='red')\n",
    "plt.hist(BGR_data['length'], alpha = 0.2, bins=bins, label='BGR', color='navy')\n",
    "plt.xlabel('length')\n",
    "plt.ylabel('numbers')\n",
    "plt.legend(loc='upper right')\n",
    "plt.xlim(0,300)\n",
    "plt.grid()\n",
    "plt.show()"
   ]
  }
 ],
 "metadata": {
  "kernelspec": {
   "display_name": "Python 3",
   "language": "python",
   "name": "python3"
  },
  "language_info": {
   "codemirror_mode": {
    "name": "ipython",
    "version": 3
   },
   "file_extension": ".py",
   "mimetype": "text/x-python",
   "name": "python",
   "nbconvert_exporter": "python",
   "pygments_lexer": "ipython3",
   "version": "3.6.6"
  }
 },
 "nbformat": 4,
 "nbformat_minor": 2
}
