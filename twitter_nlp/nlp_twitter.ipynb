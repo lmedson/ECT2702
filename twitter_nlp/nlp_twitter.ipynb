{
 "cells": [
  {
   "cell_type": "markdown",
   "metadata": {},
   "source": [
    "## Sentimental polarity analisys searching tweets by **blackfraude**"
   ]
  },
  {
   "cell_type": "code",
   "execution_count": 1,
   "metadata": {},
   "outputs": [],
   "source": [
    "import pandas as pd\n",
    "import numpy as np\n",
    "import matplotlib\n",
    "from matplotlib import pyplot as plt\n",
    "from textblob import TextBlob\n",
    "# import seaborn as sns\n",
    "%matplotlib inline\n",
    "%config InlineBackend.figure_format = 'retina'\n",
    "# pd.set_option('display.max_colwidth',362)"
   ]
  },
  {
   "cell_type": "code",
   "execution_count": 2,
   "metadata": {},
   "outputs": [],
   "source": [
    "data = pd.read_json('./tweets1.json',encoding='utf-8')"
   ]
  },
  {
   "cell_type": "code",
   "execution_count": 3,
   "metadata": {},
   "outputs": [
    {
     "data": {
      "text/html": [
       "<div>\n",
       "<style scoped>\n",
       "    .dataframe tbody tr th:only-of-type {\n",
       "        vertical-align: middle;\n",
       "    }\n",
       "\n",
       "    .dataframe tbody tr th {\n",
       "        vertical-align: top;\n",
       "    }\n",
       "\n",
       "    .dataframe thead th {\n",
       "        text-align: right;\n",
       "    }\n",
       "</style>\n",
       "<table border=\"1\" class=\"dataframe\">\n",
       "  <thead>\n",
       "    <tr style=\"text-align: right;\">\n",
       "      <th></th>\n",
       "      <th>fullname</th>\n",
       "      <th>html</th>\n",
       "      <th>id</th>\n",
       "      <th>likes</th>\n",
       "      <th>replies</th>\n",
       "      <th>retweets</th>\n",
       "      <th>text</th>\n",
       "      <th>timestamp</th>\n",
       "      <th>url</th>\n",
       "      <th>user</th>\n",
       "    </tr>\n",
       "  </thead>\n",
       "  <tbody>\n",
       "    <tr>\n",
       "      <th>0</th>\n",
       "      <td>Ricardo André</td>\n",
       "      <td>&lt;p class=\"TweetTextSize js-tweet-text tweet-te...</td>\n",
       "      <td>1063197496304967680</td>\n",
       "      <td>0</td>\n",
       "      <td>1</td>\n",
       "      <td>0</td>\n",
       "      <td>Hahahahah... Todo ano é essa mentira na BlackF...</td>\n",
       "      <td>2018-11-15 22:30:11</td>\n",
       "      <td>/RickRock_1975/status/1063197496304967682</td>\n",
       "      <td>RickRock_1975</td>\n",
       "    </tr>\n",
       "    <tr>\n",
       "      <th>1</th>\n",
       "      <td>Bruno Gabriel Silva</td>\n",
       "      <td>&lt;p class=\"TweetTextSize js-tweet-text tweet-te...</td>\n",
       "      <td>1063172546097491968</td>\n",
       "      <td>0</td>\n",
       "      <td>0</td>\n",
       "      <td>0</td>\n",
       "      <td>BlackFraude então... ?</td>\n",
       "      <td>2018-11-15 20:51:02</td>\n",
       "      <td>/Sescok/status/1063172546097491970</td>\n",
       "      <td>Sescok</td>\n",
       "    </tr>\n",
       "    <tr>\n",
       "      <th>2</th>\n",
       "      <td>Franklin</td>\n",
       "      <td>&lt;p class=\"TweetTextSize js-tweet-text tweet-te...</td>\n",
       "      <td>1063129511531896832</td>\n",
       "      <td>1</td>\n",
       "      <td>2</td>\n",
       "      <td>0</td>\n",
       "      <td>amanhã é blackfraude</td>\n",
       "      <td>2018-11-15 18:00:02</td>\n",
       "      <td>/franklin_lessa/status/1063129511531896834</td>\n",
       "      <td>franklin_lessa</td>\n",
       "    </tr>\n",
       "    <tr>\n",
       "      <th>3</th>\n",
       "      <td>André Soares</td>\n",
       "      <td>&lt;p class=\"TweetTextSize js-tweet-text tweet-te...</td>\n",
       "      <td>1063121139432673280</td>\n",
       "      <td>0</td>\n",
       "      <td>2</td>\n",
       "      <td>0</td>\n",
       "      <td>Alerta de #BlackFraude no Walmart e Sams Club....</td>\n",
       "      <td>2018-11-15 17:26:46</td>\n",
       "      <td>/AndreSoares85/status/1063121139432673281</td>\n",
       "      <td>AndreSoares85</td>\n",
       "    </tr>\n",
       "    <tr>\n",
       "      <th>4</th>\n",
       "      <td>Renan Dias</td>\n",
       "      <td>&lt;p class=\"TweetTextSize js-tweet-text tweet-te...</td>\n",
       "      <td>1063110536387313664</td>\n",
       "      <td>12</td>\n",
       "      <td>3</td>\n",
       "      <td>4</td>\n",
       "      <td>ABSURDO!\\n@pontofrio @submarino @americanascom...</td>\n",
       "      <td>2018-11-15 16:44:38</td>\n",
       "      <td>/ree_atwood/status/1063110536387313665</td>\n",
       "      <td>ree_atwood</td>\n",
       "    </tr>\n",
       "  </tbody>\n",
       "</table>\n",
       "</div>"
      ],
      "text/plain": [
       "              fullname                                               html  \\\n",
       "0        Ricardo André  <p class=\"TweetTextSize js-tweet-text tweet-te...   \n",
       "1  Bruno Gabriel Silva  <p class=\"TweetTextSize js-tweet-text tweet-te...   \n",
       "2             Franklin  <p class=\"TweetTextSize js-tweet-text tweet-te...   \n",
       "3         André Soares  <p class=\"TweetTextSize js-tweet-text tweet-te...   \n",
       "4           Renan Dias  <p class=\"TweetTextSize js-tweet-text tweet-te...   \n",
       "\n",
       "                    id  likes  replies  retweets  \\\n",
       "0  1063197496304967680      0        1         0   \n",
       "1  1063172546097491968      0        0         0   \n",
       "2  1063129511531896832      1        2         0   \n",
       "3  1063121139432673280      0        2         0   \n",
       "4  1063110536387313664     12        3         4   \n",
       "\n",
       "                                                text           timestamp  \\\n",
       "0  Hahahahah... Todo ano é essa mentira na BlackF... 2018-11-15 22:30:11   \n",
       "1                             BlackFraude então... ? 2018-11-15 20:51:02   \n",
       "2                               amanhã é blackfraude 2018-11-15 18:00:02   \n",
       "3  Alerta de #BlackFraude no Walmart e Sams Club.... 2018-11-15 17:26:46   \n",
       "4  ABSURDO!\\n@pontofrio @submarino @americanascom... 2018-11-15 16:44:38   \n",
       "\n",
       "                                          url            user  \n",
       "0   /RickRock_1975/status/1063197496304967682   RickRock_1975  \n",
       "1          /Sescok/status/1063172546097491970          Sescok  \n",
       "2  /franklin_lessa/status/1063129511531896834  franklin_lessa  \n",
       "3   /AndreSoares85/status/1063121139432673281   AndreSoares85  \n",
       "4      /ree_atwood/status/1063110536387313665      ree_atwood  "
      ]
     },
     "execution_count": 3,
     "metadata": {},
     "output_type": "execute_result"
    }
   ],
   "source": [
    "data.head()"
   ]
  },
  {
   "cell_type": "code",
   "execution_count": 4,
   "metadata": {},
   "outputs": [
    {
     "data": {
      "text/plain": [
       "(312, 10)"
      ]
     },
     "execution_count": 4,
     "metadata": {},
     "output_type": "execute_result"
    }
   ],
   "source": [
    "data.shape"
   ]
  },
  {
   "cell_type": "code",
   "execution_count": 5,
   "metadata": {},
   "outputs": [],
   "source": [
    "# cleaning data\n",
    "df = data.drop(columns=['html','url','likes','replies','retweets','id'])"
   ]
  },
  {
   "cell_type": "code",
   "execution_count": 6,
   "metadata": {},
   "outputs": [],
   "source": [
    "df[\"comment_length\"]= df[\"text\"].str.len() "
   ]
  },
  {
   "cell_type": "code",
   "execution_count": 7,
   "metadata": {},
   "outputs": [
    {
     "data": {
      "text/plain": [
       "count    312.000000\n",
       "mean     133.150641\n",
       "std       81.100785\n",
       "min       11.000000\n",
       "25%       65.000000\n",
       "50%      110.000000\n",
       "75%      200.000000\n",
       "max      362.000000\n",
       "Name: comment_length, dtype: float64"
      ]
     },
     "execution_count": 7,
     "metadata": {},
     "output_type": "execute_result"
    }
   ],
   "source": [
    "df['comment_length'].describe()"
   ]
  },
  {
   "cell_type": "code",
   "execution_count": 8,
   "metadata": {},
   "outputs": [
    {
     "data": {
      "text/html": [
       "<div>\n",
       "<style scoped>\n",
       "    .dataframe tbody tr th:only-of-type {\n",
       "        vertical-align: middle;\n",
       "    }\n",
       "\n",
       "    .dataframe tbody tr th {\n",
       "        vertical-align: top;\n",
       "    }\n",
       "\n",
       "    .dataframe thead th {\n",
       "        text-align: right;\n",
       "    }\n",
       "</style>\n",
       "<table border=\"1\" class=\"dataframe\">\n",
       "  <thead>\n",
       "    <tr style=\"text-align: right;\">\n",
       "      <th></th>\n",
       "      <th>fullname</th>\n",
       "      <th>text</th>\n",
       "      <th>timestamp</th>\n",
       "      <th>user</th>\n",
       "      <th>comment_length</th>\n",
       "    </tr>\n",
       "  </thead>\n",
       "  <tbody>\n",
       "    <tr>\n",
       "      <th>24</th>\n",
       "      <td>Ecologistas Zaragoza</td>\n",
       "      <td>¡Pasa del consumismo estúpido! #DiaSinCompras2...</td>\n",
       "      <td>2018-11-18 22:42:54</td>\n",
       "      <td>ecologistaszgz</td>\n",
       "      <td>362</td>\n",
       "    </tr>\n",
       "  </tbody>\n",
       "</table>\n",
       "</div>"
      ],
      "text/plain": [
       "                fullname                                               text  \\\n",
       "24  Ecologistas Zaragoza  ¡Pasa del consumismo estúpido! #DiaSinCompras2...   \n",
       "\n",
       "             timestamp            user  comment_length  \n",
       "24 2018-11-18 22:42:54  ecologistaszgz             362  "
      ]
     },
     "execution_count": 8,
     "metadata": {},
     "output_type": "execute_result"
    }
   ],
   "source": [
    "bigger_comment = df.loc[df['comment_length'] == 362]\n",
    "bigger_comment"
   ]
  },
  {
   "cell_type": "code",
   "execution_count": 9,
   "metadata": {},
   "outputs": [],
   "source": [
    "df[\"cluster\"]= df[\"comment_length\"].apply(lambda x: 'LST' if x <= 100 else( 'MDN' if x>100 and x<200 else 'BGR'))"
   ]
  },
  {
   "cell_type": "code",
   "execution_count": 10,
   "metadata": {},
   "outputs": [
    {
     "data": {
      "text/html": [
       "<div>\n",
       "<style scoped>\n",
       "    .dataframe tbody tr th:only-of-type {\n",
       "        vertical-align: middle;\n",
       "    }\n",
       "\n",
       "    .dataframe tbody tr th {\n",
       "        vertical-align: top;\n",
       "    }\n",
       "\n",
       "    .dataframe thead th {\n",
       "        text-align: right;\n",
       "    }\n",
       "</style>\n",
       "<table border=\"1\" class=\"dataframe\">\n",
       "  <thead>\n",
       "    <tr style=\"text-align: right;\">\n",
       "      <th></th>\n",
       "      <th>fullname</th>\n",
       "      <th>text</th>\n",
       "      <th>timestamp</th>\n",
       "      <th>user</th>\n",
       "      <th>comment_length</th>\n",
       "      <th>cluster</th>\n",
       "    </tr>\n",
       "  </thead>\n",
       "  <tbody>\n",
       "    <tr>\n",
       "      <th>0</th>\n",
       "      <td>Ricardo André</td>\n",
       "      <td>Hahahahah... Todo ano é essa mentira na BlackF...</td>\n",
       "      <td>2018-11-15 22:30:11</td>\n",
       "      <td>RickRock_1975</td>\n",
       "      <td>116</td>\n",
       "      <td>MDN</td>\n",
       "    </tr>\n",
       "    <tr>\n",
       "      <th>1</th>\n",
       "      <td>Bruno Gabriel Silva</td>\n",
       "      <td>BlackFraude então... ?</td>\n",
       "      <td>2018-11-15 20:51:02</td>\n",
       "      <td>Sescok</td>\n",
       "      <td>22</td>\n",
       "      <td>LST</td>\n",
       "    </tr>\n",
       "    <tr>\n",
       "      <th>2</th>\n",
       "      <td>Franklin</td>\n",
       "      <td>amanhã é blackfraude</td>\n",
       "      <td>2018-11-15 18:00:02</td>\n",
       "      <td>franklin_lessa</td>\n",
       "      <td>20</td>\n",
       "      <td>LST</td>\n",
       "    </tr>\n",
       "    <tr>\n",
       "      <th>3</th>\n",
       "      <td>André Soares</td>\n",
       "      <td>Alerta de #BlackFraude no Walmart e Sams Club....</td>\n",
       "      <td>2018-11-15 17:26:46</td>\n",
       "      <td>AndreSoares85</td>\n",
       "      <td>198</td>\n",
       "      <td>MDN</td>\n",
       "    </tr>\n",
       "    <tr>\n",
       "      <th>4</th>\n",
       "      <td>Renan Dias</td>\n",
       "      <td>ABSURDO!\\n@pontofrio @submarino @americanascom...</td>\n",
       "      <td>2018-11-15 16:44:38</td>\n",
       "      <td>ree_atwood</td>\n",
       "      <td>274</td>\n",
       "      <td>BGR</td>\n",
       "    </tr>\n",
       "  </tbody>\n",
       "</table>\n",
       "</div>"
      ],
      "text/plain": [
       "              fullname                                               text  \\\n",
       "0        Ricardo André  Hahahahah... Todo ano é essa mentira na BlackF...   \n",
       "1  Bruno Gabriel Silva                             BlackFraude então... ?   \n",
       "2             Franklin                               amanhã é blackfraude   \n",
       "3         André Soares  Alerta de #BlackFraude no Walmart e Sams Club....   \n",
       "4           Renan Dias  ABSURDO!\\n@pontofrio @submarino @americanascom...   \n",
       "\n",
       "            timestamp            user  comment_length cluster  \n",
       "0 2018-11-15 22:30:11   RickRock_1975             116     MDN  \n",
       "1 2018-11-15 20:51:02          Sescok              22     LST  \n",
       "2 2018-11-15 18:00:02  franklin_lessa              20     LST  \n",
       "3 2018-11-15 17:26:46   AndreSoares85             198     MDN  \n",
       "4 2018-11-15 16:44:38      ree_atwood             274     BGR  "
      ]
     },
     "execution_count": 10,
     "metadata": {},
     "output_type": "execute_result"
    }
   ],
   "source": [
    "df.head()"
   ]
  },
  {
   "cell_type": "markdown",
   "metadata": {},
   "source": [
    "# Bar chart of class proportion"
   ]
  },
  {
   "cell_type": "code",
   "execution_count": 11,
   "metadata": {},
   "outputs": [],
   "source": [
    "LST_len = df[df['cluster'] == 'LST'].shape[0]\n",
    "MDN_len = df[df['cluster'] == 'MDN'].shape[0]\n",
    "BGR_len = df[df['cluster'] == 'BGR'].shape[0]"
   ]
  },
  {
   "cell_type": "code",
   "execution_count": 12,
   "metadata": {
    "scrolled": false
   },
   "outputs": [
    {
     "data": {
      "image/png": "[encoded data removed]",
      "text/plain": [
       "<Figure size 432x288 with 1 Axes>"
      ]
     },
     "metadata": {
      "image/png": {
       "height": 263,
       "width": 391
      }
     },
     "output_type": "display_data"
    }
   ],
   "source": [
    "# bar plot of the 3 classes\n",
    "plt.bar(10,LST_len,3, label=\"LST\")\n",
    "plt.bar(15,MDN_len,3, label=\"MDN\")\n",
    "plt.bar(20,BGR_len,3, label=\"BGR\")\n",
    "plt.legend()\n",
    "plt.ylabel('Number of examples')\n",
    "plt.title('Propoertion of examples')\n",
    "plt.show()"
   ]
  },
  {
   "cell_type": "markdown",
   "metadata": {},
   "source": [
    "# Setting sentiment polarity"
   ]
  },
  {
   "cell_type": "code",
   "execution_count": 13,
   "metadata": {},
   "outputs": [],
   "source": [
    "# df['phrase'] = TextBlob(df['text'])\n",
    "polarities = []\n",
    "for text in df['text']:\n",
    "    phrase = TextBlob(text)\n",
    "    if phrase.sentiment.polarity > 0:\n",
    "        polarities.append('POSITIVE')\n",
    "    elif phrase.sentiment.polarity > 0:\n",
    "        polarities.append('NEUTRAL')\n",
    "    else:\n",
    "        polarities.append('NEGATIVE')"
   ]
  },
  {
   "cell_type": "code",
   "execution_count": 14,
   "metadata": {},
   "outputs": [],
   "source": [
    "df['polarities'] = polarities"
   ]
  },
  {
   "cell_type": "code",
   "execution_count": 15,
   "metadata": {},
   "outputs": [
    {
     "data": {
      "text/plain": [
       "count          312\n",
       "unique           2\n",
       "top       NEGATIVE\n",
       "freq           291\n",
       "Name: polarities, dtype: object"
      ]
     },
     "execution_count": 15,
     "metadata": {},
     "output_type": "execute_result"
    }
   ],
   "source": [
    "df['polarities'].describe()"
   ]
  }
 ],
 "metadata": {
  "kernelspec": {
   "display_name": "Python 3",
   "language": "python",
   "name": "python3"
  },
  "language_info": {
   "codemirror_mode": {
    "name": "ipython",
    "version": 3
   },
   "file_extension": ".py",
   "mimetype": "text/x-python",
   "name": "python",
   "nbconvert_exporter": "python",
   "pygments_lexer": "ipython3",
   "version": "3.6.6"
  }
 },
 "nbformat": 4,
 "nbformat_minor": 2
}
