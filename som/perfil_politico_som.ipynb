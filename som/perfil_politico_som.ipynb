{
 "cells": [
  {
   "cell_type": "code",
   "execution_count": 2,
   "metadata": {},
   "outputs": [],
   "source": [
    "import numpy as np\n",
    "import matplotlib.pyplot as plt\n",
    "import pandas as pd"
   ]
  },
  {
   "cell_type": "code",
   "execution_count": 3,
   "metadata": {},
   "outputs": [
    {
     "name": "stdout",
     "output_type": "stream",
     "text": [
      "Collecting minisom\n",
      "  Using cached https://files.pythonhosted.org/packages/d3/de/79460293f5b3b69371832f50419820162b30a12c929d02543df3b4ff3d41/MiniSom-2.1.4.tar.gz\n",
      "Building wheels for collected packages: minisom\n",
      "  Running setup.py bdist_wheel for minisom ... \u001b[?25ldone\n",
      "\u001b[?25h  Stored in directory: /home/geronimo/.cache/pip/wheels/4a/5c/75/d21b1b07292ccd8720a8076304f793031e016c16e9c8eacbf9\n",
      "Successfully built minisom\n",
      "Installing collected packages: minisom\n",
      "Successfully installed minisom-2.1.4\n",
      "\u001b[33mYou are using pip version 10.0.1, however version 18.1 is available.\n",
      "You should consider upgrading via the 'pip install --upgrade pip' command.\u001b[0m\n"
     ]
    }
   ],
   "source": [
    "\n",
    "# Install MiniSOM\n",
    "# https://github.com/JustGlowing/minisom \n",
    "!pip install minisom"
   ]
  },
  {
   "cell_type": "code",
   "execution_count": 4,
   "metadata": {},
   "outputs": [],
   "source": [
    "perfis = pd.read_csv(\"data/perfil_politico.csv\")"
   ]
  },
  {
   "cell_type": "code",
   "execution_count": 5,
   "metadata": {},
   "outputs": [
    {
     "data": {
      "text/html": [
       "<div>\n",
       "<style scoped>\n",
       "    .dataframe tbody tr th:only-of-type {\n",
       "        vertical-align: middle;\n",
       "    }\n",
       "\n",
       "    .dataframe tbody tr th {\n",
       "        vertical-align: top;\n",
       "    }\n",
       "\n",
       "    .dataframe thead th {\n",
       "        text-align: right;\n",
       "    }\n",
       "</style>\n",
       "<table border=\"1\" class=\"dataframe\">\n",
       "  <thead>\n",
       "    <tr style=\"text-align: right;\">\n",
       "      <th></th>\n",
       "      <th>Apoia privatizações das empresas brasileiras?</th>\n",
       "      <th>Lula deve ser solto</th>\n",
       "      <th>O impeachment de Dilma foi um golpe?</th>\n",
       "      <th>Legalização do aborto</th>\n",
       "      <th>Políticas de ações afirmativas (cotas)</th>\n",
       "      <th>A favor da reforma agrária</th>\n",
       "      <th>Todos os brasileiro devem alcançar suas conquistas através da meritocracia</th>\n",
       "      <th>Apoia a legalização do porte de armas</th>\n",
       "      <th>Apoia a redução da maioridade penal</th>\n",
       "      <th>Apoia a laicidade do Estado</th>\n",
       "      <th>Apoia a diminuição do Estado</th>\n",
       "      <th>As Universidades são um gasto público?</th>\n",
       "      <th>A favor do foro privilegiado?</th>\n",
       "      <th>A favor de uma reforma política?</th>\n",
       "      <th>A favor de uma diminuição de regalias para os políticos?</th>\n",
       "    </tr>\n",
       "  </thead>\n",
       "  <tbody>\n",
       "    <tr>\n",
       "      <th>0</th>\n",
       "      <td>1.0</td>\n",
       "      <td>0.0</td>\n",
       "      <td>0.0</td>\n",
       "      <td>0.5</td>\n",
       "      <td>1.0</td>\n",
       "      <td>1.0</td>\n",
       "      <td>0.5</td>\n",
       "      <td>0.5</td>\n",
       "      <td>1.0</td>\n",
       "      <td>1.0</td>\n",
       "      <td>1.0</td>\n",
       "      <td>0</td>\n",
       "      <td>0.0</td>\n",
       "      <td>1</td>\n",
       "      <td>1</td>\n",
       "    </tr>\n",
       "    <tr>\n",
       "      <th>1</th>\n",
       "      <td>0.5</td>\n",
       "      <td>1.0</td>\n",
       "      <td>1.0</td>\n",
       "      <td>0.5</td>\n",
       "      <td>1.0</td>\n",
       "      <td>0.5</td>\n",
       "      <td>1.0</td>\n",
       "      <td>0.0</td>\n",
       "      <td>1.0</td>\n",
       "      <td>1.0</td>\n",
       "      <td>0.5</td>\n",
       "      <td>0</td>\n",
       "      <td>0.0</td>\n",
       "      <td>1</td>\n",
       "      <td>1</td>\n",
       "    </tr>\n",
       "    <tr>\n",
       "      <th>2</th>\n",
       "      <td>1.0</td>\n",
       "      <td>0.0</td>\n",
       "      <td>0.0</td>\n",
       "      <td>1.0</td>\n",
       "      <td>0.5</td>\n",
       "      <td>0.5</td>\n",
       "      <td>1.0</td>\n",
       "      <td>1.0</td>\n",
       "      <td>1.0</td>\n",
       "      <td>1.0</td>\n",
       "      <td>1.0</td>\n",
       "      <td>0</td>\n",
       "      <td>0.0</td>\n",
       "      <td>0</td>\n",
       "      <td>1</td>\n",
       "    </tr>\n",
       "  </tbody>\n",
       "</table>\n",
       "</div>"
      ],
      "text/plain": [
       "   Apoia privatizações das empresas brasileiras?  Lula deve ser solto  \\\n",
       "0                                            1.0                  0.0   \n",
       "1                                            0.5                  1.0   \n",
       "2                                            1.0                  0.0   \n",
       "\n",
       "   O impeachment de Dilma foi um golpe?  Legalização do aborto  \\\n",
       "0                                   0.0                    0.5   \n",
       "1                                   1.0                    0.5   \n",
       "2                                   0.0                    1.0   \n",
       "\n",
       "   Políticas de ações afirmativas (cotas)  A favor da reforma agrária  \\\n",
       "0                                     1.0                         1.0   \n",
       "1                                     1.0                         0.5   \n",
       "2                                     0.5                         0.5   \n",
       "\n",
       "   Todos os brasileiro devem alcançar suas conquistas através da meritocracia  \\\n",
       "0                                                0.5                            \n",
       "1                                                1.0                            \n",
       "2                                                1.0                            \n",
       "\n",
       "   Apoia a legalização do porte de armas  Apoia a redução da maioridade penal  \\\n",
       "0                                    0.5                                  1.0   \n",
       "1                                    0.0                                  1.0   \n",
       "2                                    1.0                                  1.0   \n",
       "\n",
       "   Apoia a laicidade do Estado  Apoia a diminuição do Estado  \\\n",
       "0                          1.0                           1.0   \n",
       "1                          1.0                           0.5   \n",
       "2                          1.0                           1.0   \n",
       "\n",
       "   As Universidades são um gasto público?  A favor do foro privilegiado?  \\\n",
       "0                                       0                            0.0   \n",
       "1                                       0                            0.0   \n",
       "2                                       0                            0.0   \n",
       "\n",
       "   A favor de uma reforma política?  \\\n",
       "0                                 1   \n",
       "1                                 1   \n",
       "2                                 0   \n",
       "\n",
       "   A favor de uma diminuição de regalias para os políticos?  \n",
       "0                                                  1         \n",
       "1                                                  1         \n",
       "2                                                  1         "
      ]
     },
     "execution_count": 5,
     "metadata": {},
     "output_type": "execute_result"
    }
   ],
   "source": [
    "perfis.head(3)"
   ]
  },
  {
   "cell_type": "code",
   "execution_count": 6,
   "metadata": {},
   "outputs": [],
   "source": [
    "X = perfis.iloc[:, 0:15]\n",
    "y = perfis.iloc[:, 14]"
   ]
  },
  {
   "cell_type": "code",
   "execution_count": 9,
   "metadata": {},
   "outputs": [],
   "source": [
    "from sklearn.preprocessing import MinMaxScaler\n",
    "sc = MinMaxScaler(feature_range = (0, 1))\n",
    "X = sc.fit_transform(X.values)"
   ]
  },
  {
   "cell_type": "code",
   "execution_count": 10,
   "metadata": {},
   "outputs": [],
   "source": [
    "from minisom import MiniSom\n",
    "som = MiniSom(x = 10, y = 10, input_len = 15, sigma = 1.0, learning_rate = 0.5)\n",
    "som.train_random(data = X, num_iteration = 10)"
   ]
  },
  {
   "cell_type": "code",
   "execution_count": 11,
   "metadata": {},
   "outputs": [
    {
     "data": {
      "image/png": "[encoded data removed]",
      "text/plain": [
       "<Figure size 432x288 with 2 Axes>"
      ]
     },
     "metadata": {},
     "output_type": "display_data"
    }
   ],
   "source": [
    "from pylab import bone, pcolor, colorbar, plot, show\n",
    "bone()\n",
    "pcolor(som.distance_map().T)\n",
    "colorbar()\n",
    "\n",
    "markers = ['o', 's']\n",
    "colors = ['y', 'b']\n",
    "\n",
    "for i, x in enumerate(X):\n",
    "    w = som.winner(x)\n",
    "    plot(w[0] + 0.5,\n",
    "         w[1] + 0.5,\n",
    "         markers[y[i]],\n",
    "         markeredgecolor = colors[y[i]],\n",
    "         markerfacecolor = 'None',\n",
    "         markersize = 10,\n",
    "         markeredgewidth = 2)\n",
    "\n",
    "show()"
   ]
  }
 ],
 "metadata": {
  "kernelspec": {
   "display_name": "Python 3",
   "language": "python",
   "name": "python3"
  },
  "language_info": {
   "codemirror_mode": {
    "name": "ipython",
    "version": 3
   },
   "file_extension": ".py",
   "mimetype": "text/x-python",
   "name": "python",
   "nbconvert_exporter": "python",
   "pygments_lexer": "ipython3",
   "version": "3.6.6"
  }
 },
 "nbformat": 4,
 "nbformat_minor": 2
}
